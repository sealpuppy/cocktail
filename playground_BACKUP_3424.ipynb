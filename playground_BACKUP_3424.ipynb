{
 "cells": [
  {
   "cell_type": "code",
   "execution_count": null,
   "metadata": {
    "collapsed": true
   },
   "outputs": [],
   "source": [
    "feature_model = torch.load(root_dir + 'FeatureNet.pkl')\n",
    "print (feature_model)"
   ]
  },
  {
   "cell_type": "code",
<<<<<<< HEAD
   "execution_count": 1,
   "metadata": {},
=======
   "execution_count": null,
   "metadata": {
    "collapsed": true
   },
>>>>>>> 6dde27436fbc632e3072759b80df56842a4a6a33
   "outputs": [],
   "source": [
    "import torch\n",
    "import torch.nn as nn\n",
    "import torch.nn.functional as F\n",
    "import torch.optim as optim\n",
    "from torch.utils.data import Dataset, DataLoader\n",
    "import torch.utils.data as data\n",
    "import torch.nn.init as init\n",
    "import pytorch_ssim\n",
    "\n",
    "import torchvision\n",
    "import torchvision.transforms as transforms\n",
    "from torch.autograd import Variable\n",
    "\n",
    "import matplotlib.pyplot as plt\n",
    "import pickle\n",
    "import os\n",
    "import json\n",
    "import numpy as np\n",
    "import gc\n",
    "import cv2"
   ]
  },
  {
   "cell_type": "code",
   "execution_count": null,
   "metadata": {
    "collapsed": true
   },
   "outputs": [],
   "source": [
    "epoch = 5\n",
    "lr = 0.001\n",
    "mom = 0.9\n",
    "bs = 10"
   ]
  },
  {
   "cell_type": "code",
   "execution_count": null,
   "metadata": {
    "collapsed": true
   },
   "outputs": [],
   "source": [
    "def odd(w):\n",
    "    return list(np.arange(1, w, step=2, dtype='long'))\n",
    "\n",
    "def even(w):\n",
    "    return list(np.arange(0, w, step=2, dtype='long'))\n",
    "\n",
    "def white(x):\n",
    "    fw, tw = x.shape[1], x.shape[2]\n",
    "\n",
    "    first = F.relu(torch.normal(mean=torch.zeros(fw, tw), std=torch.ones(fw, tw)) ) * 0.05\n",
    "    second_seed = F.relu(torch.normal(mean=torch.zeros(fw//2, tw//2), std=torch.ones(fw//2, tw//2))) * 0.03\n",
    "    second = torch.zeros(fw, tw)\n",
    "\n",
    "    row_x  = torch.zeros(int(fw//2), tw)\n",
    "    # row_x = torch.zeros(int(fw/2), tw)\n",
    "\n",
    "    row_x[:, odd(tw)]  = second_seed\n",
    "    row_x[:, even(tw)] = second_seed\n",
    "\n",
    "    second[odd(fw), :]  = row_x\n",
    "    second[even(fw), :] = row_x\n",
    "\n",
    "    return second + first\n"
   ]
  },
  {
   "cell_type": "code",
   "execution_count": null,
   "metadata": {
    "collapsed": true
   },
   "outputs": [],
   "source": [
    "#=============================================\n",
    "#        path\n",
    "#=============================================\n",
    "\n",
    "server = False\n",
    "\n",
    "root_dir = '/home/tk/Documents/'\n",
    "if server == True:\n",
    "    root_dir = '/home/guotingyou/cocktail_phase2/'\n",
    "\n",
    "\n",
    "clean_dir = root_dir + 'clean/' \n",
    "# mix_dir = root_dir + 'mix/' \n",
    "# clean_label_dir = root_dir + 'clean_labels/' \n",
    "# mix_label_dir = root_dir + 'mix_labels/' \n",
    "\n",
    "cleanfolder = os.listdir(clean_dir)\n",
    "cleanfolder.sort()\n",
    "\n",
    "# mixfolder = os.listdir(mix_dir)\n",
    "# mixfolder.sort()\n",
    "\n",
    "\n",
    "clean_list = []\n",
    "# mix_list = []"
   ]
  },
  {
   "cell_type": "code",
   "execution_count": null,
   "metadata": {
    "collapsed": true
   },
   "outputs": [],
   "source": [
    "class MSourceDataSet(Dataset):\n",
    "    \n",
    "    def __init__(self, clean_dir):\n",
    "        \n",
    "\n",
    "        # Overfitting single block\n",
    "        with open(clean_dir + 'clean11.json') as f:\n",
    "            clean_list.append(torch.Tensor(json.load(f)))\n",
    "\n",
    "            \n",
    "        cleanblock = torch.cat(clean_list, 0)\n",
    "#         mixblock = torch.cat(mix_list, 0)\n",
    "        self.spec = cleanblock\n",
    "                \n",
    "        \n",
    "    def __len__(self):\n",
    "        return self.spec.shape[0]\n",
    "\n",
    "                \n",
    "    def __getitem__(self, index): \n",
    "\n",
    "        spec = self.spec[index]\n",
    "        return spec\n",
    "    \n",
    "#=============================================\n",
    "#        Define Dataloader\n",
    "#=============================================\n",
    "\n",
    "trainset = MSourceDataSet(clean_dir)\n",
    "\n",
    "trainloader = torch.utils.data.DataLoader(dataset = trainset,\n",
    "                                                batch_size = bs,\n",
    "                                                shuffle = True)\n",
    "#=============================================\n",
    "#        Define Dataloader\n",
    "#=============================================\n",
    "\n",
    "trainset = MSourceDataSet(clean_dir)\n",
    "\n",
    "trainloader = torch.utils.data.DataLoader(dataset = trainset,\n",
    "                                                batch_size = bs,\n",
    "                                                shuffle = True)"
   ]
  },
  {
   "cell_type": "code",
   "execution_count": null,
   "metadata": {
    "collapsed": true
   },
   "outputs": [],
   "source": [
    "#=============================================\n",
    "#        Model\n",
    "#=============================================\n",
    "\n",
    "''' ResBlock '''\n",
    "class ResBlock(nn.Module):\n",
    "    def __init__(self, channels_in, channels_out):\n",
    "        super(ResBlock, self).__init__()\n",
    "\n",
    "        self.channels_in = channels_in\n",
    "        self.channels_out = channels_out\n",
    "\n",
    "        self.conv1 = nn.Conv2d(in_channels=channels_in, out_channels=channels_out, kernel_size=(3,3), padding=1)\n",
    "        self.conv2 = nn.Conv2d(in_channels=channels_out, out_channels=channels_out, kernel_size=(3,3), padding=1)\n",
    "\n",
    "    def forward(self, x):\n",
    "        if self.channels_out > self.channels_in:\n",
    "            x1 = F.relu(self.conv1(x), inplace = True)\n",
    "            x1 =        self.conv2(x1)\n",
    "            x  = self.sizematch(self.channels_in, self.channels_out, x)\n",
    "            return F.relu(x + x1, inplace = True)\n",
    "        elif self.channels_out < self.channels_in:\n",
    "            x = F.relu(self.conv1(x))\n",
    "            x1 =       self.conv2(x)\n",
    "            x = x + x1\n",
    "            return F.relu(x, inplace = True)\n",
    "        else:\n",
    "            x1 = F.relu(self.conv1(x), inplace = True)\n",
    "            x1 =        self.conv2(x1)\n",
    "            x = x + x1\n",
    "            return F.relu(x, inplace = True)\n",
    "\n",
    "    def sizematch(self, channels_in, channels_out, x):\n",
    "        zeros = torch.zeros( (x.size()[0], channels_out - channels_in, x.shape[2], x.shape[3]), dtype = torch.float32)\n",
    "        return torch.cat((x, zeros), dim=1)\n",
    "\n",
    "class ResTranspose(nn.Module):\n",
    "    def __init__(self, channels_in, channels_out):\n",
    "        super(ResTranspose, self).__init__()\n",
    "\n",
    "        self.channels_in = channels_in\n",
    "        self.channels_out = channels_out\n",
    "\n",
    "        self.deconv1 = nn.ConvTranspose2d(in_channels=channels_in, out_channels=channels_out, kernel_size=(2,2), stride=2)\n",
    "        self.deconv2 = nn.Conv2d(in_channels=channels_out, out_channels=channels_out, kernel_size=(3,3), padding=1)\n",
    "\n",
    "    def forward(self, x):\n",
    "        # cin = cout\n",
    "        x1 = F.relu(self.deconv1(x), inplace = True)\n",
    "        x1 =        self.deconv2(x1)\n",
    "        x = self.sizematch(x)\n",
    "        return F.relu(x + x1, inplace = True)\n",
    "\n",
    "    def sizematch(self, x):\n",
    "        # expand\n",
    "        x2 = torch.zeros(x.shape[0], self.channels_in, x.shape[2]*2, x.shape[3]*2)\n",
    "\n",
    "        row_x  = torch.zeros(x.shape[0], self.channels_in, x.shape[2], 2*x.shape[3])\n",
    "        row_x[:,:,:,odd(x.shape[3]*2)]   = x\n",
    "        row_x[:,:,:,even(x.shape[3]*2)]  = x\n",
    "        x2[:,:, odd(x.shape[2]*2),:] = row_x\n",
    "        x2[:,:,even(x.shape[2]*2),:] = row_x\n",
    "\n",
    "        return x2\n",
    "\n",
    "\n",
    "def initialize(m):\n",
    "    if isinstance(m, nn.Conv2d):\n",
    "        init.xavier_normal_(m.weight)\n",
    "        init.constant_(m.bias, 0)\n",
    "    if isinstance(m, nn.ConvTranspose2d):\n",
    "        init.xavier_normal_(m.weight)\n",
    "\n",
    "\n",
    "\n",
    "\n",
    "\n",
    "# model = ResDAE()\n",
    "model = torch.load(root_dir + 'recover/SSIM-CONV/DAE_SSIM.pkl')\n",
    "print (model)\n"
   ]
  },
  {
   "cell_type": "code",
   "execution_count": null,
   "metadata": {
    "collapsed": true
   },
   "outputs": [],
   "source": [
    "\n",
    "#=============================================\n",
    "#        Optimizer\n",
    "#=============================================\n",
    "\n",
    "#import pytorch_ssim\n",
    "criterion = pytorch_ssim.SSIM()\n",
    "optimizer = torch.optim.Adam(model.parameters(), lr = lr) #, momentum = mom)\n",
    "\n",
    "#=============================================\n",
    "#        Loss Record\n",
    "#=============================================\n",
    "\n",
    "loss_record = []\n",
    "# every_loss = []\n",
    "# epoch_loss = []\n",
    "\n",
    "#=============================================\n",
    "#        test\n",
    "#=============================================\n",
    "\n",
    "criterion = pytorch_ssim.SSIM()\n",
    "\n",
    "model.eval()\n",
    "for epo in range(epoch):\n",
    "    for i, data in enumerate(trainloader, 0):\n",
    "        inputs = data\n",
    "        inputs = Variable(inputs)\n",
    "        top = model.upward(inputs + white(inputs))\n",
    "        \n",
    "        outputs = model.downward(top, shortcut = True)\n",
    "        inputs = inputs.view(bs, 1, 256, 128)\n",
    "        outputs = outputs.view(bs, 1, 256, 128)\n",
    "        #with open ( root_dir + 'recover/L1loss_FC/recover_pic_epo_' + str(epo), 'w') as f:\n",
    "        #    json.dump(outputs.tolist(), f)\n",
    "        \n",
    "        loss = - criterion(outputs, inputs)\n",
    "        ssim_value = - loss.data.item()\n",
    "        \n",
    "        if i % 20 == 0:\n",
    "            inn = inputs[0].view(256, 128).detach().numpy() * 255\n",
    "            cv2.imwrite(\"/home/tk/Documents/recover/SSIM-CONV/test/\" + str(epo) + \"_\" + str(i) + \".png\", inn)\n",
    "            \n",
    "            out = outputs[0].view(256, 128).detach().numpy() * 255\n",
    "            cv2.imwrite(\"/home/tk/Documents/recover/SSIM-CONV/test/\" + str(epo) + \"_\" + str(i) + \"_re.png\", out)\n",
    "            "
   ]
  },
  {
   "cell_type": "code",
   "execution_count": null,
   "metadata": {
    "collapsed": true
   },
   "outputs": [],
   "source": [
    "import torch\n",
    "import torch.nn as nn\n",
    "import torch.nn.functional as F\n",
    "import torch.optim as optim\n",
    "from torch.utils.data import Dataset, DataLoader\n",
    "import torch.utils.data as data\n",
    "\n",
    "import torchvision\n",
    "import torchvision.transforms as transforms\n",
    "import torchvision.datasets as dset\n",
    "\n",
    "import matplotlib.pyplot as plt\n",
    "import pickle\n",
    "import os\n",
    "import json\n",
    "import numpy as np\n",
    "\n",
    "\n",
    "\n",
    "#=============================================\n",
    "#        Hyperparameters\n",
    "#=============================================\n",
    "\n",
    "epoch = 2\n",
    "lr = 0.001\n",
    "mom = 0.9\n",
    "bs = 16\n",
    "\n",
    "#======================================\n",
    "clean_dir = '/home/tk/Documents/clean/' \n",
    "clean_label_dir = '/home/tk/Documents/clean_labels/' \n",
    "#========================================\n",
    "\n",
    "cleanfolder = os.listdir(clean_dir)\n",
    "cleanfolder.sort()\n",
    "\n",
    "cleanlabelfolder = os.listdir(clean_label_dir)\n",
    "cleanlabelfolder.sort()\n",
    "\n",
    "clean_list = []\n",
    "clean_label_list = []\n",
    "\n",
    "#========================================\n",
    "\n",
    "class featureDataSet(Dataset):\n",
    "    \n",
    "    def __init__(self, clean_dir, clean_label_dir):\n",
    "                \n",
    "\n",
    "        for i in cleanfolder:\n",
    "            with open(clean_dir + '{}'.format(i)) as f:\n",
    "                clean_list.append(torch.Tensor(json.load(f)))\n",
    "                \n",
    "        for i in cleanlabelfolder:\n",
    "            with open(clean_label_dir + '{}'.format(i)) as f:\n",
    "                clean_label_list.append(torch.Tensor(json.load(f)))\n",
    "        \n",
    "        cleanblock = torch.cat(clean_list, 0)\n",
    "        self.spec = torch.cat([cleanblock], 0)\n",
    "                \n",
    "        cleanlabel = torch.cat(clean_label_list, 0)\n",
    "        self.label = torch.cat([cleanlabel], 0)\n",
    "\n",
    "        \n",
    "    def __len__(self):\n",
    "        return self.spec.shape[0]\n",
    "\n",
    "                \n",
    "    def __getitem__(self, index): \n",
    "\n",
    "        spec = self.spec[index]\n",
    "        label = self.label[index]\n",
    "        return spec, label\n",
    "\n",
    "    \n",
    "#=================================================    \n",
    "#           Dataloader \n",
    "#=================================================\n",
    "featureset = featureDataSet(clean_dir, clean_label_dir)\n",
    "trainloader = torch.utils.data.DataLoader(dataset = featureset,\n",
    "                                                batch_size = bs,\n",
    "                                                shuffle = True)\n",
    "\n",
    "#=================================================    \n",
    "#           model \n",
    "#=================================================\n",
    "class featureNet(nn.Module):\n",
    "    def __init__(self):\n",
    "        super(featureNet, self).__init__()\n",
    "        self.fc1 = nn.Linear(256 * 128, 500)\n",
    "        self.fc2 = nn.Linear(500, 256)\n",
    "        self.fc3 = nn.Linear(256, 10)\n",
    "\n",
    "        \n",
    "    def forward(self, x):\n",
    "        x = x.view(-1, 256*128)\n",
    "        x = F.relu(self.fc1(x))\n",
    "        x = F.relu(self.fc2(x))\n",
    "        x = torch.sigmoid(self.fc3(x))\n",
    "        \n",
    "        return x\n",
    "    \n",
    "#model = featureNet()\n",
    "model = torch.load('/home/tk/Documents/FeatureNet.pkl')\n",
    "print (model)\n",
    "\n",
    "#============================================\n",
    "#              optimizer\n",
    "#============================================\n",
    "criterion = torch.nn.BCELoss()\n",
    "optimizer = torch.optim.SGD(model.parameters(), lr = lr, momentum = mom)\n",
    "\n",
    "#============================================\n",
    "#              training\n",
    "#============================================\n",
    "\n",
    "loss_record = []\n",
    "every_loss = []\n",
    "epoch_loss = []\n",
    "\n",
    "\n",
    "model.train()\n",
    "for epoch in range(70):\n",
    "    \n",
    "    \n",
    "    for i, data in enumerate(trainloader, 0):\n",
    "        \n",
    "        inputs, labels = data\n",
    "\n",
    "        optimizer.zero_grad()\n",
    "        \n",
    "        outputs = model(inputs)\n",
    "        loss = criterion(outputs, labels)\n",
    "        loss.backward()\n",
    "        optimizer.step()\n",
    "        loss_record.append(loss.item())\n",
    "        every_loss.append(loss.item())\n",
    "        print ('[%d, %5d] loss: %.3f' % (epoch, i, loss.item()))\n",
    "        \n",
    "    epoch_loss.append(np.mean(every_loss))\n",
    "    every_loss = []\n",
    "\n",
    "            \n",
    "            \n",
    "torch.save(model, '/home/tk/Documents/FeatureNet.pkl')\n",
    "\n",
    "\n",
    "plt.figure(figsize = (20, 10))\n",
    "plt.plot(loss_record)\n",
    "plt.xlabel('iterations')\n",
    "plt.ylabel('loss')\n",
    "plt.savefig('loss.png')\n",
    "plt.show()\n",
    "\n",
    "plt.figure(figsize = (20, 10))\n",
    "plt.plot(epoch_loss)\n",
    "plt.xlabel('iterations')\n",
    "plt.ylabel('epoch_loss')\n",
    "plt.savefig('epoch_loss')\n",
    "plt.show()"
   ]
  },
  {
   "cell_type": "code",
   "execution_count": null,
   "metadata": {
    "collapsed": true
   },
   "outputs": [],
   "source": [
    "model = torch.load('/home/tk/Documents/FeatureNet.pkl')\n",
    "print (model)"
   ]
  },
  {
   "cell_type": "code",
   "execution_count": null,
   "metadata": {
    "collapsed": true
   },
   "outputs": [],
   "source": []
  },
  {
   "cell_type": "code",
   "execution_count": null,
   "metadata": {
    "collapsed": true
   },
   "outputs": [],
   "source": [
    "j = open('/home/tk/Documents/mix/mix0.json').read()\n",
    "a = json.loads(j)\n",
    "mix = np.array(a)\n",
    "print (mix.shape)"
   ]
  },
  {
   "cell_type": "code",
   "execution_count": null,
   "metadata": {
    "collapsed": true,
    "scrolled": true
   },
   "outputs": [],
   "source": [
    "j = open('/home/tk/Documents/mix_labels/mix_label0.json').read()\n",
    "a = json.loads(j)\n",
    "mix_label = np.array(a)\n",
    "print(mix_label.shape)"
   ]
  },
  {
   "cell_type": "code",
   "execution_count": null,
   "metadata": {
    "collapsed": true
   },
   "outputs": [],
   "source": [
    "mix_label"
   ]
  },
  {
   "cell_type": "code",
   "execution_count": null,
   "metadata": {
    "collapsed": true
   },
   "outputs": [],
   "source": [
    "i = 2\n",
    "index1 = (i * 11) + mix_label[i][0]\n",
    "index2 = (i * 11) + mix_label[i][1]\n",
    "print (index1)\n",
    "print (index2)\n",
    "mix_index = i * 11 + 10\n",
    "print (mix_index)"
   ]
  },
  {
   "cell_type": "code",
   "execution_count": null,
   "metadata": {
    "collapsed": true
   },
   "outputs": [],
   "source": [
    "i = 2\n",
    "index1 = (i * 11) + mix_label[i][0]\n",
    "index2 = (i * 11) + mix_label[i][1]\n",
    "print (index1)\n",
    "print (index2)\n",
    "mix_index = i * 11 + 10\n",
    "print (mix_index)"
   ]
  },
  {
   "cell_type": "code",
   "execution_count": null,
   "metadata": {
    "collapsed": true
   },
   "outputs": [],
   "source": [
    "mix_label[2][1]"
   ]
  },
  {
   "cell_type": "code",
   "execution_count": null,
   "metadata": {
    "collapsed": true
   },
   "outputs": [],
   "source": [
    "cv2.imwrite('/home/tk/Desktop/a.png', mix[index1] * 255)\n",
    "print (mix[index1])"
   ]
  },
  {
   "cell_type": "code",
   "execution_count": null,
   "metadata": {
    "collapsed": true
   },
   "outputs": [],
   "source": [
    "cv2.imwrite('/home/tk/Desktop/b.png', mix[index2] * 255)\n",
    "print (mix[index2])"
   ]
  },
  {
   "cell_type": "code",
   "execution_count": null,
   "metadata": {
    "collapsed": true
   },
   "outputs": [],
   "source": [
    "print (mix[mix_index])"
   ]
  },
  {
   "cell_type": "code",
   "execution_count": null,
   "metadata": {
    "collapsed": true
   },
   "outputs": [],
   "source": [
    "c = (mix[index1] + mix[index2])\n",
    "c = np.clip(c, np.min(c), 1)"
   ]
  },
  {
   "cell_type": "code",
   "execution_count": null,
   "metadata": {
    "collapsed": true
   },
   "outputs": [],
   "source": [
    "np.max(c)"
   ]
  },
  {
   "cell_type": "code",
   "execution_count": null,
   "metadata": {
    "collapsed": true
   },
   "outputs": [],
   "source": [
    "cv2.imwrite('/home/tk/Desktop/mix.png', c * 255)\n",
    "print (mix[mix_index])"
   ]
  },
  {
   "cell_type": "code",
   "execution_count": null,
   "metadata": {
    "collapsed": true
   },
   "outputs": [],
   "source": [
    "print (mix_label[3])"
   ]
  },
  {
   "cell_type": "code",
   "execution_count": null,
   "metadata": {
    "collapsed": true
   },
   "outputs": [],
   "source": [
    "3 * 11 + 5"
   ]
  },
  {
   "cell_type": "code",
   "execution_count": null,
   "metadata": {
    "collapsed": true
   },
   "outputs": [],
   "source": [
    "print (mix_label[3][0])"
   ]
  },
  {
   "cell_type": "code",
   "execution_count": null,
   "metadata": {
    "collapsed": true
   },
   "outputs": [],
   "source": [
    "with open('/home/tk/Documents/clean/clean0.json') as f:\n",
    "    b = f.read()"
   ]
  },
  {
   "cell_type": "code",
   "execution_count": null,
   "metadata": {
    "collapsed": true,
    "scrolled": true
   },
   "outputs": [],
   "source": [
    "j = open('/home/tk/Documents/clean/clean0.json').read()\n",
    "b = json.loads(b)\n",
    "print (b)"
   ]
  },
  {
   "cell_type": "code",
   "execution_count": null,
   "metadata": {
    "collapsed": true
   },
   "outputs": [],
   "source": [
    "with open('/home/tk/Documents/mix_labels/mix_label0.json') as f:\n",
    "    a = f.read()"
   ]
  },
  {
   "cell_type": "code",
   "execution_count": null,
   "metadata": {
    "collapsed": true
   },
   "outputs": [],
   "source": [
    "print (len(a))"
   ]
  },
  {
   "cell_type": "code",
   "execution_count": null,
   "metadata": {
    "collapsed": true
   },
   "outputs": [],
   "source": [
    "b = [1,2,3,4,5,6]"
   ]
  },
  {
   "cell_type": "code",
   "execution_count": null,
   "metadata": {
    "collapsed": true
   },
   "outputs": [],
   "source": [
    "z = np.zeros((10))\n",
    "print (z[0])"
   ]
  },
  {
   "cell_type": "code",
   "execution_count": null,
   "metadata": {
    "collapsed": true
   },
   "outputs": [],
   "source": [
    "root_dir = '/home/tk/Documents/'\n",
    "clean_dir = root_dir + 'clean/' \n",
    "\n",
    "clean_list = []\n",
    "clean_label_list = []\n",
    "mix_list = []\n",
    "mix_label_list = []\n",
    "import torch"
   ]
  },
  {
   "cell_type": "code",
   "execution_count": null,
   "metadata": {
    "collapsed": true
   },
   "outputs": [],
   "source": [
    "i = 0\n",
    "c[i*2: (i+1)*2 ]"
   ]
  },
  {
   "cell_type": "code",
   "execution_count": null,
   "metadata": {
    "collapsed": true
   },
   "outputs": [],
   "source": [
    "c = [[1],[1],[2],[2]]"
   ]
  },
  {
   "cell_type": "code",
   "execution_count": null,
   "metadata": {
    "collapsed": true
   },
   "outputs": [],
   "source": [
    "class featureDataSet(Dataset):\n",
    "    \n",
    "    def __init__(self, c6lean_dir):\n",
    "\n",
    "        with open(clean_dir + 'clean3.json') as f:\n",
    "            clean_list.append(torch.Tensor(json.load(f)))\n",
    "        \n",
    "        with open(root_dir + \"clean_labels/clean_label3.json\") as f:\n",
    "            clean_label_list.append(torch.Tensor(json.load(f)))\n",
    "\n",
    "        with open(root_dir + 'mix/mix0.json') as f:\n",
    "            mix_list.append(torch.Tensor(json.load(f)))\n",
    "            \n",
    "        with open(root_dir + 'mix_labels/mix_label0.json') as f:\n",
    "            mix_label_list.append(torch.Tensor(json.load(f)))\n",
    "            \n",
    "        cleanblock = torch.cat(clean_list, 0)\n",
    "        mixblock = torch.cat(mix_list, 0)\n",
    "        self.spec = cleanblock\n",
    "                \n",
    "        \n",
    "    def __len__(self):\n",
    "        return self.spec.shape[0]\n",
    "\n",
    "                \n",
    "    def __getitem__(self, index): \n",
    "\n",
    "        spec = self.spec[index]\n",
    "        return spec\n"
   ]
  },
  {
   "cell_type": "code",
   "execution_count": null,
   "metadata": {
    "collapsed": true
   },
   "outputs": [],
   "source": [
    "for h in range(0, 200, 20):\n",
    "    print (h)"
   ]
  },
  {
   "cell_type": "code",
   "execution_count": null,
   "metadata": {
    "collapsed": true
   },
   "outputs": [],
   "source": [
    "length = 0.5\n",
    "multiplication = 1"
   ]
  },
  {
   "cell_type": "code",
   "execution_count": null,
   "metadata": {
    "collapsed": true
   },
   "outputs": [],
   "source": [
    "spec_name = os.listdir(root_dir + \"slice_pointsec/\")\n",
    "if len(spec_name) == (10/length)* 10 * multiplication: \n",
    "    print ((10/length)* 10 * multiplication)\n",
    "    print (\"checked\")\n",
    "spec_name.sort()\n",
    "print (spec_name[19])"
   ]
  },
  {
   "cell_type": "code",
   "execution_count": null,
   "metadata": {
    "collapsed": true
   },
   "outputs": [],
   "source": [
    "spec = data_process.gen_spectrogram(root_dir + 'slice_pointcec/' + spec_name[])"
   ]
  },
  {
   "cell_type": "code",
   "execution_count": null,
   "metadata": {
    "collapsed": true
   },
   "outputs": [],
   "source": [
    "for j in range(0 + i, int(10/length) * 10 * multiplication + i, int(10/length) * multiplication):\n",
    "    spec = data_process.gen_spectrogram(root_dir + 'slice_pointsec/' + spec_name[j])\n",
    "    small_pcs.append(spec)"
   ]
  },
  {
   "cell_type": "code",
   "execution_count": null,
   "metadata": {
    "collapsed": true
   },
   "outputs": [],
   "source": [
    "for j in range(0, 200, 20):\n",
    "    print (j)"
   ]
  },
  {
   "cell_type": "code",
   "execution_count": null,
   "metadata": {
    "collapsed": true
   },
   "outputs": [],
   "source": [
    "json.close()"
   ]
  },
  {
   "cell_type": "code",
   "execution_count": null,
   "metadata": {
    "collapsed": true
   },
   "outputs": [],
   "source": [
    "l = [1,2,3,4,5,6,7]\n",
    "np.clip(l, min(l), 5)"
   ]
  },
  {
   "cell_type": "code",
   "execution_count": null,
   "metadata": {
    "collapsed": true
   },
   "outputs": [],
   "source": [
    "server = False\n",
    "\n",
    "root_dir = '/home/tk/Documents/'\n",
    "if server == True:\n",
    "    root_dir = '/home/guotingyou/cocktail_phase2/'\n",
    "\n",
    "\n",
    "clean_dir = root_dir + 'clean/' \n",
    "mix_dir = root_dir + 'mix/' \n",
    "clean_label_dir = root_dir + 'clean_labels/' \n",
    "mix_label_dir = root_dir + 'mix_labels/' \n",
    "\n",
    "cleanfolder = os.listdir(clean_dir)\n",
    "cleanfolder.sort()\n",
    "\n",
    "mixfolder = os.listdir(mix_dir)\n",
    "mixfolder.sort()\n",
    "\n",
    "\n",
    "clean_list = []\n",
    "mix_list = []\n",
    "mix_label_list = []\n",
    "feature_list = []"
   ]
  },
  {
   "cell_type": "code",
   "execution_count": null,
   "metadata": {
    "collapsed": true
   },
   "outputs": [],
   "source": [
    "class mixDataSet(Dataset):\n",
    "    \n",
    "    def __init__(self, mix_dir, mix_label_dir):           \n",
    "        \n",
    "        with open(mix_dir + 'mix3.json') as f:\n",
    "            mix_list.append(torch.Tensor(json.load(f)))\n",
    "        \n",
    "        with open(mix_label_dir + 'mix_label3.json') as f:\n",
    "            mix_label_list.append(torch.Tensor(json.load(f)))\n",
    "        \n",
    "        mixblock = torch.cat(mix_list, 0)\n",
    "        mixlabel = torch.cat(mix_label_list, 0)\n",
    "        \n",
    "        self.mix_spec = mixblock\n",
    "        self.mix_label = mixlabel\n",
    "                \n",
    "        \n",
    "    def __len__(self):\n",
    "        return self.mix_spec.shape[0]\n",
    "\n",
    "                \n",
    "    def __getitem__(self, index): \n",
    "\n",
    "        mix_spec = self.mix_spec[index]\n",
    "        mix_label = self.mix_label[index]\n",
    "        return mix_spec, mix_label\n",
    "\n",
    "\n",
    "class featureDataSet(Dataset):\n",
    "    \n",
    "    def __init__(self, clean_dir):\n",
    "        \n",
    "\n",
    "        with open(clean_dir + 'clean3.json') as f:\n",
    "            feature_list.append(torch.Tensor(json.load(f)))      \n",
    "        \n",
    "        featureblock = torch.cat(feature_list, 0)\n",
    "        self.featurespec = featureblock\n",
    "                \n",
    "        \n",
    "    def __len__(self):\n",
    "        return self.featurespec.shape[0]\n",
    "\n",
    "                \n",
    "    def __getitem__(self, index): \n",
    "\n",
    "        featurespec = self.featurespec[index]\n",
    "        return featurespec"
   ]
  },
  {
   "cell_type": "code",
   "execution_count": null,
   "metadata": {
    "collapsed": true
   },
   "outputs": [],
   "source": [
    "mixset = mixDataSet(mix_dir, mix_label_dir)"
   ]
  },
  {
   "cell_type": "code",
   "execution_count": null,
   "metadata": {
    "collapsed": true
   },
   "outputs": [],
   "source": [
    "mspec, mlabel = mixset.__getitem__(0)"
   ]
  },
  {
   "cell_type": "code",
   "execution_count": null,
   "metadata": {
    "collapsed": true
   },
   "outputs": [],
   "source": [
    "mlabel[0]"
   ]
  },
  {
   "cell_type": "code",
   "execution_count": null,
   "metadata": {
    "collapsed": true
   },
   "outputs": [],
   "source": [
    "featureset = featureDataSet(clean_dir)"
   ]
  },
  {
   "cell_type": "code",
   "execution_count": null,
   "metadata": {
    "collapsed": true
   },
   "outputs": [],
   "source": [
    "featureset.__getitem__()"
   ]
  },
  {
   "cell_type": "code",
   "execution_count": null,
   "metadata": {
    "collapsed": true
   },
   "outputs": [],
   "source": [
    "mixloader = torch.utils.data.DataLoader(dataset = MSourceDataSet(clean_dir),\n",
    "                                                batch_size = bs,\n",
    "                                                shuffle = False)"
   ]
  },
  {
   "cell_type": "code",
   "execution_count": null,
   "metadata": {
    "collapsed": true
   },
   "outputs": [],
   "source": [
    "mixset = mixDataSet(mix_dir, mix_label_dir)\n",
    "featureset = featureDataSet(clean_dir)\n",
    "\n",
    "mixloader = torch.utils.data.DataLoader(dataset = MSourceDataSet(clean_dir),\n",
    "                                                batch_size = bs,\n",
    "                                                shuffle = False)\n",
    "\n",
    "featureloader = torch.utils.data.DataLoader(dataset = featureset,\n",
    "                                           batch_size = bs,\n",
    "                                           shuffle = False)\n"
   ]
  },
  {
   "cell_type": "code",
   "execution_count": null,
   "metadata": {
    "collapsed": true
   },
   "outputs": [],
   "source": [
    "mixset.__len__()"
   ]
  },
  {
   "cell_type": "code",
   "execution_count": null,
   "metadata": {
    "collapsed": true
   },
   "outputs": [],
   "source": [
    "mix_spec, mix_label = mixset.__getitem__(10)"
   ]
  },
  {
   "cell_type": "code",
   "execution_count": null,
   "metadata": {
    "collapsed": true
   },
   "outputs": [],
   "source": [
    "mix_spec"
   ]
  },
  {
   "cell_type": "code",
   "execution_count": null,
   "metadata": {
    "collapsed": true
   },
   "outputs": [],
   "source": [
    "mix_label[0]"
   ]
  },
  {
   "cell_type": "code",
   "execution_count": null,
   "metadata": {
    "collapsed": true
   },
   "outputs": [],
   "source": [
    "featureset.__getitem__()"
   ]
  },
  {
   "cell_type": "code",
   "execution_count": null,
   "metadata": {
    "collapsed": true
   },
   "outputs": [],
   "source": [
    "j = open(clean_dir + 'clean3.json').read()\n",
    "b = json.loads(b)\n",
    "print (b)"
   ]
  },
  {
   "cell_type": "code",
   "execution_count": null,
   "metadata": {
    "collapsed": true
   },
   "outputs": [],
   "source": [
    "j = open('/home/tk/Documents/clean/clean0.json').read()\n",
    "a = json.loads(j)\n",
    "mix = np.array(a)\n",
    "print (mix.shape)"
   ]
  },
  {
   "cell_type": "code",
   "execution_count": null,
   "metadata": {
    "collapsed": true
   },
   "outputs": [],
   "source": []
  },
  {
   "cell_type": "code",
   "execution_count": null,
   "metadata": {
    "collapsed": true
   },
   "outputs": [],
   "source": []
  },
  {
   "cell_type": "code",
   "execution_count": null,
   "metadata": {
    "collapsed": true
   },
   "outputs": [],
   "source": []
  },
  {
   "cell_type": "code",
   "execution_count": null,
   "metadata": {
    "collapsed": true
   },
   "outputs": [],
   "source": [
    "import torch\n",
    "import torch.nn as nn\n",
    "import torch.nn.functional as F\n",
    "import torch.optim as optim\n",
    "from torch.utils.data import Dataset, DataLoader\n",
    "import torch.utils.data as data\n",
    "import torch.nn.init as init\n",
    "import pytorch_ssim\n",
    "\n",
    "import torchvision\n",
    "import torchvision.transforms as transforms\n",
    "from torch.autograd import Variable\n",
    "\n",
    "import matplotlib.pyplot as plt\n",
    "import pickle\n",
    "import os\n",
    "import json\n",
    "import numpy as npu\n",
    "import gc\n",
    "import cv2"
   ]
  },
  {
   "cell_type": "code",
   "execution_count": null,
   "metadata": {
    "collapsed": true
   },
   "outputs": [],
   "source": [
    "epoch = 2\n",
    "lr = 0.001\n",
    "mom = 0.9\n",
    "bs = 10"
   ]
  },
  {
   "cell_type": "code",
   "execution_count": null,
   "metadata": {
    "collapsed": true
   },
   "outputs": [],
   "source": [
    "def odd(w):\n",
    "    return list(np.arange(1, w, step=2, dtype='long'))\n",
    "\n",
    "def even(w):\n",
    "    return list(np.arange(0, w, step=2, dtype='long'))\n",
    "\n",
    "def white(x):\n",
    "    fw, tw = x.shape[1], x.shape[2]\n",
    "\n",
    "    first = F.relu(torch.normal(mean=torch.zeros(fw, tw), std=torch.ones(fw, tw)) ) * 0.05\n",
    "    second_seed = F.relu(torch.normal(mean=torch.zeros(fw//2, tw//2), std=torch.ones(fw//2, tw//2))) * 0.03\n",
    "    second = torch.zeros(fw, tw)\n",
    "\n",
    "    row_x  = torch.zeros(int(fw//2), tw)\n",
    "    # row_x = torch.zeros(int(fw/2), tw)\n",
    "\n",
    "    row_x[:, odd(tw)]  = second_seed\n",
    "    row_x[:, even(tw)] = second_seed\n",
    "\n",
    "    second[odd(fw), :]  = row_x\n",
    "    second[even(fw), :] = row_x\n",
    "\n",
    "    return second + first"
   ]
  },
  {
   "cell_type": "code",
   "execution_count": null,
   "metadata": {
    "collapsed": true
   },
   "outputs": [],
   "source": [
    "server = False\n",
    "\n",
    "root_dir = '/home/tk/Documents/'\n",
    "if server == True:\n",
    "    root_dir = '/home/guotingyou/cocktail_phase2/'\n",
    "\n",
    "\n",
    "clean_dir = root_dir + 'clean/' \n",
    "mix_dir = root_dir + 'mix/' \n",
    "clean_label_dir = root_dir + 'clean_labels/' \n",
    "mix_label_dir = root_dir + 'mix_labels/' \n",
    "\n",
    "cleanfolder = os.listdir(clean_dir)\n",
    "cleanfolder.sort()\n",
    "\n",
    "mixfolder = os.listdir(mix_dir)\n",
    "mixfolder.sort()\n",
    "\n",
    "\n",
    "clean_list = []\n",
    "mix_list = []\n",
    "mix_label_list = []\n",
    "feature_list = []"
   ]
  },
  {
   "cell_type": "code",
   "execution_count": null,
   "metadata": {
    "collapsed": true
   },
   "outputs": [],
   "source": [
    "class mixDataSet(Dataset):\n",
    "    \n",
    "    def __init__(self, mix_dir, mix_label_dir):           \n",
    "        \n",
    "        with open(mix_dir + 'mix3.json') as f:\n",
    "            mix_list.append(torch.Tensor(json.load(f)))\n",
    "        \n",
    "        with open(mix_label_dir + 'mix_label3.json') as f:\n",
    "            mix_label_list.append(torch.Tensor(json.load(f)))\n",
    "        \n",
    "        mixblock = torch.cat(mix_list, 0)\n",
    "        mixlabel = torch.cat(mix_label_list, 0)\n",
    "        \n",
    "        self.mix_spec = mixblock\n",
    "        self.mix_label = mixlabel\n",
    "                \n",
    "        \n",
    "    def __len__(self):\n",
    "        return self.mix_spec.shape[0]\n",
    "\n",
    "                \n",
    "    def __getitem__(self, index): \n",
    "\n",
    "        mix_spec = self.spec[index]\n",
    "        mix_label = self.mix_label[index]\n",
    "        return mix_spec, mix_label\n",
    "\n",
    "\n",
    "class featureDataSet(Dataset):\n",
    "    \n",
    "    def __init__(self, clean_dir):\n",
    "        \n",
    "\n",
    "        with open(clean_dir + 'clean3.json') as f:\n",
    "            feature_list.append(torch.Tensor(json.load(f)))      \n",
    "        \n",
    "        featureblock = torch.cat(clean_list, 0)\n",
    "        self.featurespec = featureblock\n",
    "                \n",
    "        \n",
    "    def __len__(self):\n",
    "        return self.featurespec.shape[0]\n",
    "\n",
    "                \n",
    "    def __getitem__(self, index): \n",
    "\n",
    "        featurespec = self.featurespec[index]\n",
    "        return featurespec"
   ]
  },
  {
   "cell_type": "code",
   "execution_count": null,
   "metadata": {
    "collapsed": true
   },
   "outputs": [],
   "source": [
    "mixset = mixDataSet(mix_dir)\n",
    "featureset = featureDataset(clean_dir)\n",
    "\n",
    "mixloader = torch.utils.data.DataLoader(dataset = mixset,\n",
    "                                                batch_size = bs,\n",
    "                                                shuffle = False)\n",
    "\n",
    "featureloader = torch.utils.data.DataLoader(dataset = featureset,\n",
    "                                           batch_size = bs,\n",
    "                                           shuffle = False)"
   ]
  },
  {
   "cell_type": "code",
   "execution_count": null,
   "metadata": {
    "collapsed": true
   },
   "outputs": [],
   "source": [
    "'''featureNet'''\n",
    "class featureNet(nn.Module):\n",
    "    def __init__(self):\n",
    "        super(Net, self).__init__()\n",
    "        self.fc1 = nn.Linear(1025*16, 500)\n",
    "        self.fc2 = nn.Linear(500, 256)\n",
    "        self.fc3 = nn.Linear(256, 10)\n",
    "\n",
    "        \n",
    "    def forward(self, x):\n",
    "        x = x.view(-1, 1025*16)\n",
    "        x = F.relu(self.fc1(x))\n",
    "        x = F.relu(self.fc2(x))\n",
    "#        x = torch.sigmoid(self.fc3(x))\n",
    "        \n",
    "        return x\n",
    "\n",
    "#feature_model = featureNet()\n",
    "feature_model = torch.load(root_dir + 'FeatureNet.pkl')\n",
    "    \n",
    "'''ANet'''\n",
    "class ANet(nn.Module):\n",
    "    def __init__(self):\n",
    "        super(ANet, self).__init__()\n",
    "\n",
    "        self.linear7 = nn.Sequential(\n",
    "            nn.Linear(256, 512),\n",
    "            nn.ReLU(),\n",
    "        )\n",
    "        self.linear6 = nn.Sequential(\n",
    "            nn.Linear(256, 256),\n",
    "            nn.ReLU(),\n",
    "        )\n",
    "        self.linear5 = nn.Sequential(\n",
    "            nn.Linear(256, 128),\n",
    "            nn.ReLU(),\n",
    "        )\n",
    "        self.linear4 = nn.Sequential(\n",
    "            nn.Linear(256, 64),\n",
    "            nn.ReLU(),\n",
    "        )\n",
    "        self.linear3 = nn.Sequential(\n",
    "            nn.Linear(256, 32),\n",
    "            nn.ReLU(),\n",
    "        )\n",
    "        self.linear2 = nn.Sequential(\n",
    "            nn.Linear(256, 16),\n",
    "            nn.ReLU(),\n",
    "        )\n",
    "\n",
    "    def forward(self, x):\n",
    "        x = x.view(bs, 1, 256)\n",
    "\n",
    "        a7 = self.linear7(x).view(bs, 512, 1, 1)\n",
    "        a6 = self.linear6(x).view(bs, 256, 1, 1)\n",
    "        a5 = self.linear5(x).view(bs, 128, 1, 1)\n",
    "        a4 = self.linear4(x).view(bs, 64, 1, 1)\n",
    "        a3 = self.linear3(x).view(bs, 32, 1, 1)\n",
    "        a2 = self.linear2(x).view(bs, 16, 1, 1)\n",
    "\n",
    "return a7, a6, a5, a4, a3, a2\n",
    "\n",
    "A_model = ANet()\n",
    "\n",
    "\n",
    "''' ResBlock '''\n",
    "class ResBlock(nn.Module):\n",
    "    def __init__(self, channels_in, channels_out):\n",
    "        super(ResBlock, self).__init__()\n",
    "\n",
    "        self.channels_in = channels_in\n",
    "        self.channels_out = channels_out\n",
    "\n",
    "        self.conv1 = nn.Conv2d(in_channels=channels_in, out_channels=channels_out, kernel_size=(3,3), padding=1)\n",
    "        self.conv2 = nn.Conv2d(in_channels=channels_out, out_channels=channels_out, kernel_size=(3,3), padding=1)\n",
    "\n",
    "    def forward(self, x):\n",
    "        if self.channels_out > self.channels_in:\n",
    "            x1 = F.relu(self.conv1(x), inplace = True)\n",
    "            x1 =        self.conv2(x1)\n",
    "            x  = self.sizematch(self.channels_in, self.channels_out, x)\n",
    "            return F.relu(x + x1, inplace = True)\n",
    "        elif self.channels_out < self.channels_in:\n",
    "            x = F.relu(self.conv1(x))\n",
    "            x1 =       self.conv2(x)\n",
    "            x = x + x1\n",
    "            return F.relu(x, inplace = True)\n",
    "        else:\n",
    "            x1 = F.relu(self.conv1(x), inplace = True)\n",
    "            x1 =        self.conv2(x1)\n",
    "            x = x + x1\n",
    "            return F.relu(x, inplace = True)\n",
    "\n",
    "    def sizematch(self, channels_in, channels_out, x):\n",
    "        zeros = torch.zeros( (x.size()[0], channels_out - channels_in, x.shape[2], x.shape[3]), dtype = torch.float32)\n",
    "        return torch.cat((x, zeros), dim=1)\n",
    "\n",
    "class ResTranspose(nn.Module):\n",
    "    def __init__(self, channels_in, channels_out):\n",
    "        super(ResTranspose, self).__init__()\n",
    "\n",
    "        self.channels_in = channels_in\n",
    "        self.channels_out = channels_out\n",
    "\n",
    "        self.deconv1 = nn.ConvTranspose2d(in_channels=channels_in, out_channels=channels_out, kernel_size=(2,2), stride=2)\n",
    "        self.deconv2 = nn.Conv2d(in_channels=channels_out, out_channels=channels_out, kernel_size=(3,3), padding=1)\n",
    "\n",
    "    def forward(self, x):\n",
    "        # cin = cout\n",
    "        x1 = F.relu(self.deconv1(x), inplace = True)\n",
    "        x1 =        self.deconv2(x1)\n",
    "        x = self.sizematch(x)\n",
    "        return F.relu(x + x1, inplace = True)\n",
    "\n",
    "    def sizematch(self, x):\n",
    "        # expand\n",
    "        x2 = torch.zeros(x.shape[0], self.channels_in, x.shape[2]*2, x.shape[3]*2)\n",
    "\n",
    "        row_x  = torch.zeros(x.shape[0], self.channels_in, x.shape[2], 2*x.shape[3])\n",
    "        row_x[:,:,:,odd(x.shape[3]*2)]   = x\n",
    "        row_x[:,:,:,even(x.shape[3]*2)]  = x\n",
    "        x2[:,:, odd(x.shape[2]*2),:] = row_x\n",
    "        x2[:,:,even(x.shape[2]*2),:] = row_x\n",
    "\n",
    "        return x2\n",
    "\n",
    "\n",
    "def initialize(m):\n",
    "    if isinstance(m, nn.Conv2d):\n",
    "        init.xavier_normal_(m.weight)\n",
    "        init.constant_(m.bias, 0)\n",
    "    if isinstance(m, nn.ConvTranspose2d):\n",
    "        init.xavier_normal_(m.weight)\n",
    "\n",
    "\n",
    "\n",
    "class ResDAE(nn.Module):\n",
    "    def __init__(self):\n",
    "        super(ResDAE, self).__init__()\n",
    "\n",
    "        # 128x128x1\n",
    "\n",
    "        self.upward_net1 = nn.Sequential(\n",
    "            ResBlock(1, 1),\n",
    "            ResBlock(1, 8),\n",
    "            ResBlock(8, 8),\n",
    "            nn.BatchNorm2d(8),\n",
    "        )\n",
    "\n",
    "        # 64x64x8\n",
    "\n",
    "        self.upward_net2 = nn.Sequential(\n",
    "            nn.Conv2d(in_channels=8, out_channels=8, kernel_size=(2,2), stride=2),\n",
    "            nn.ReLU(),\n",
    "            ResBlock(8, 8),\n",
    "            ResBlock(8, 16),\n",
    "            ResBlock(16, 16),\n",
    "            nn.BatchNorm2d(16),\n",
    "        )\n",
    "\n",
    "        # 32x32x16\n",
    "\n",
    "        self.upward_net3 = nn.Sequential(\n",
    "            nn.Conv2d(in_channels=16, out_channels=16, kernel_size=(2,2), stride=2),\n",
    "            nn.ReLU(),\n",
    "            ResBlock(16, 16),\n",
    "            ResBlock(16, 32),\n",
    "            ResBlock(32, 32),\n",
    "            nn.BatchNorm2d(32),\n",
    "        )\n",
    "\n",
    "        # 16x16x32\n",
    "\n",
    "        self.upward_net4 = nn.Sequential(\n",
    "            nn.Conv2d(in_channels=32, out_channels=32, kernel_size=(2,2), stride=2),\n",
    "            nn.ReLU(),\n",
    "            ResBlock(32, 32),\n",
    "            ResBlock(32, 64),\n",
    "            ResBlock(64, 64),\n",
    "            nn.BatchNorm2d(64),\n",
    "        )\n",
    "\n",
    "        # 8x8x64\n",
    "\n",
    "        self.upward_net5 = nn.Sequential(\n",
    "            nn.Conv2d(in_channels=64, out_channels=64, kernel_size=(2,2), stride=2),\n",
    "            nn.ReLU(),\n",
    "            ResBlock(64, 64),\n",
    "            ResBlock(64, 128),\n",
    "            ResBlock(128, 128),\n",
    "            nn.BatchNorm2d(128),\n",
    "        )\n",
    "\n",
    "        # 4x4x128\n",
    "\n",
    "        self.upward_net6 = nn.Sequential(\n",
    "            nn.Conv2d(in_channels=128, out_channels=128, kernel_size=(2,2), stride=2),\n",
    "            nn.ReLU(),\n",
    "            ResBlock(128, 128),\n",
    "            ResBlock(128, 256),\n",
    "            ResBlock(256, 256),\n",
    "            nn.BatchNorm2d(256),\n",
    "        )\n",
    "\n",
    "        # 2x2x256\n",
    "\n",
    "        self.upward_net7 = nn.Sequential(\n",
    "            nn.Conv2d(in_channels=256, out_channels=256, kernel_size=(2,2), stride=2),\n",
    "            nn.ReLU(),\n",
    "            ResBlock(256, 256),\n",
    "            ResBlock(256, 512),\n",
    "            ResBlock(512, 512),\n",
    "            nn.BatchNorm2d(512),\n",
    "        )\n",
    "\n",
    "        # 1x1x512\n",
    "        self.downward_net7 = nn.Sequential(\n",
    "            ResBlock(512, 512),\n",
    "            ResBlock(512, 256),\n",
    "            ResBlock(256, 256),\n",
    "            ResTranspose(256, 256),\n",
    "#            nn.ConvTranspose2d(256, 256, kernel_size = (2,2), stride = 2),\n",
    "            nn.BatchNorm2d(256),\n",
    "        )\n",
    "\n",
    "        # 2x2x256\n",
    "\n",
    "        self.downward_net6 = nn.Sequential(\n",
    "            # 8x8x64\n",
    "            ResBlock(256, 256),\n",
    "            ResBlock(256, 128),\n",
    "            ResBlock(128, 128),\n",
    "            ResTranspose(128, 128),\n",
    "#            nn.ConvTranspose2d(128, 128, kernel_size = (2,2), stride = 2),\n",
    "            nn.BatchNorm2d(128),\n",
    "        )\n",
    "\n",
    "        # 4x4x128\n",
    "        # cat -> 4x4x256\n",
    "        self.uconv5 = nn.Conv2d(256, 128, kernel_size=(3,3), padding=(1,1))\n",
    "        # 4x4x128\n",
    "        self.downward_net5 = nn.Sequential(\n",
    "            ResBlock(128, 128),\n",
    "            ResBlock(128, 64),\n",
    "            ResBlock(64, 64),\n",
    "            ResTranspose(64, 64),\n",
    "#            nn.ConvTranspose2d(64, 64, kernel_size = (2,2), stride = 2),\n",
    "            nn.BatchNorm2d(64),\n",
    "        )\n",
    "\n",
    "        # 8x8x64\n",
    "        # cat -> 8x8x128\n",
    "        self.uconv4 = nn.Conv2d(128, 64, kernel_size=(3,3), padding=(1,1))\n",
    "        # 8x8x64\n",
    "        self.downward_net4 = nn.Sequential(\n",
    "            ResBlock(64, 64),\n",
    "            ResBlock(64, 32),\n",
    "            ResBlock(32, 32),\n",
    "            ResTranspose(32, 32),\n",
    "#            nn.ConvTranspose2d(32, 32, kernel_size = (2,2), stride = 2),\n",
    "            nn.BatchNorm2d(32),\n",
    "        )\n",
    "\n",
    "        # 16x16x32\n",
    "        # cat -> 16x16x64\n",
    "        self.uconv3 = nn.Conv2d(64, 32, kernel_size=(3,3), padding=(1,1))\n",
    "        # 16x16x32\n",
    "        self.downward_net3 = nn.Sequential(\n",
    "            ResBlock(32, 32),\n",
    "            ResBlock(32, 16),\n",
    "            ResBlock(16, 16),\n",
    "            ResTranspose(16, 16),\n",
    "#            nn.ConvTranspose2d(16, 16, kernel_size = (2,2), stride = 2),\n",
    "            nn.BatchNorm2d(16),\n",
    "        )\n",
    "\n",
    "        # 32x32x16\n",
    "        # cat -> 32x32x32\n",
    "        self.uconv2 = nn.Conv2d(32, 16, kernel_size=(3,3), padding=(1,1))\n",
    "        # 32x32x16\n",
    "        self.downward_net2 = nn.Sequential(\n",
    "            ResBlock(16, 16),\n",
    "            ResBlock(16, 8),\n",
    "            ResBlock(8, 8),\n",
    "            ResTranspose(8, 8),\n",
    "#            nn.ConvTranspose2d(8, 8, kernel_size = (2,2), stride = 2),\n",
    "            nn.BatchNorm2d(8),\n",
    "        )\n",
    "\n",
    "        # 64x64x8\n",
    "        self.downward_net1 = nn.Sequential(\n",
    "            ResBlock(8, 8),\n",
    "            ResBlock(8, 1),\n",
    "            ResBlock(1, 1),\n",
    "            ResBlock(1, 1),\n",
    "            nn.BatchNorm2d(1),\n",
    "        )\n",
    "\n",
    "        # 128x128x1\n",
    "        \n",
    "        self.apply(initialize)\n",
    "\n",
    "\n",
    "    def upward(self, x, a7= True, a6= True, a5= True, a4= True, a3= True, a2= True):\n",
    "        x = x.view(bs, 1, 256, 128)\n",
    "\n",
    "        # 1x256x128\n",
    "#        print (\"initial\", x.shape)\n",
    "\n",
    "        x = self.upward_net1(x)\n",
    "#        print (\"after conv1\", x.shape)\n",
    "\n",
    "\n",
    "        # 8x128x64\n",
    "        x = self.upward_net2(x)\n",
    "        if a2 is not None: x = x * a2\n",
    "        self.x2 = x\n",
    "#        print (\"after conv2\", x.shape)\n",
    "\n",
    "        # 16x64x32\n",
    "        x = self.upward_net3(x)\n",
    "        if a3 is not None: x = x * a3\n",
    "        self.x3 = x\n",
    "#        print (\"after conv3\", x.shape)\n",
    "\n",
    "        # 32x32x16\n",
    "        x = self.upward_net4(x)\n",
    "        if a4 is not None: x = x * a4\n",
    "        self.x4 = x\n",
    "#        print (\"after conv4\", x.shape)\n",
    "\n",
    "        # 64x16x8\n",
    "        x = self.upward_net5(x)\n",
    "        if a5 is not None: x = x * a5\n",
    "        self.x5 = x\n",
    "#        print (\"after conv5\", x.shape)\n",
    "\n",
    "        \n",
    "        # 128x8x4\n",
    "        x = self.upward_net6(x)\n",
    "        if a6 is not None: x = x * a6\n",
    "#        print (\"after conv6\", x.shape)\n",
    "\n",
    "        # 256x4x2\n",
    "        x = self.upward_net7(x)\n",
    "        if a7 is not None: x = x * a7\n",
    "#        print (\"after conv7\", x.shape)\n",
    "\n",
    "        # 512x2x1\n",
    "        return x\n",
    "\n",
    "\n",
    "    def downward(self, y, shortcut= True):\n",
    "#        print (\"begin to downward, y.shape = \", y.shape)\n",
    "        # 512x2x1\n",
    "        y = self.downward_net7(y)\n",
    "#        print (\"after down7\", y.shape)\n",
    "\n",
    "        # 256x4x2\n",
    "        y = self.downward_net6(y)\n",
    "#        print (\"after down6\", y.shape)\n",
    "\n",
    "        # 128x8x4\n",
    "        if shortcut:\n",
    "            y = torch.cat((y, self.x5), 1)\n",
    "            y = F.relu(self.uconv5(y))\n",
    "        y = self.downward_net5(y)\n",
    "#        print (\"after down5\", y.shape)\n",
    "\n",
    "        # 64x16x8\n",
    "        if shortcut:\n",
    "            y = torch.cat((y, self.x4), 1)\n",
    "            y = F.relu(self.uconv4(y))\n",
    "        y = self.downward_net4(y)\n",
    "#        print (\"after down4\", y.shape)\n",
    "\n",
    "        # 32x32x16\n",
    "        if shortcut:\n",
    "            y = torch.cat((y, self.x3), 1)\n",
    "            y = F.relu(self.uconv3(y))\n",
    "        y = self.downward_net3(y)\n",
    "#        print (\"after down3\", y.shape)\n",
    "\n",
    "        # 16x64x32\n",
    "        if shortcut:\n",
    "            y = torch.cat((y, self.x2), 1)\n",
    "            y = F.relu(self.uconv2(y))\n",
    "        y = self.downward_net2(y)\n",
    "#        print (\"after down2\", y.shape)\n",
    "\n",
    "        # 8x128x64\n",
    "        y = self.downward_net1(y)\n",
    "#        print (\"after down1\", y.shape)\n",
    " \n",
    "        # 1x256x128\n",
    "        return y\n",
    "\n",
    "# Res_model = ResDAE()\n",
    "Res_model = torch.load(root_dir + 'recover/SSIM-CONV/DAE_SSIM.pkl')\n",
    "# print (model)"
   ]
  },
  {
   "cell_type": "code",
   "execution_count": null,
   "metadata": {
    "collapsed": true
   },
   "outputs": [],
   "source": [
    "#import pytorch_ssim\n",
    "criterion = pytorch_ssim.SSIM()\n",
    "optimizer = torch.optim.Adam(model.parameters(), lr = lr) #, momentum = mom)"
   ]
  },
  {
   "cell_type": "code",
   "execution_count": null,
   "metadata": {
    "collapsed": true
   },
   "outputs": [],
   "source": [
    "loss_record = []"
   ]
  },
  {
   "cell_type": "code",
   "execution_count": null,
   "metadata": {
    "collapsed": true
   },
   "outputs": [],
   "source": [
    "model.train()\n",
    "for epo in range(epoch):\n",
    "    for i, data in enumerate(trainloader, 0):\n",
    "        inputs = data\n",
    "        inputs = Variable(inputs)\n",
    "        optimizer.zero_grad()\n",
    "        top = model.upward(inputs + white(inputs))\n",
    "        \n",
    "        outputs = model.downward(top, shortcut = True)\n",
    "        inputs = inputs.view(bs, 1, 256, 128)\n",
    "        outputs = outputs.view(bs, 1, 256, 128)\n",
    "        #with open ( root_dir + 'recover/L1loss_FC/recover_pic_epo_' + str(epo), 'w') as f:\n",
    "        #    json.dump(outputs.tolist(), f)\n",
    "        \n",
    "        loss = - criterion(outputs, inputs)\n",
    "        ssim_value = - loss.data.item()\n",
    "        loss.backward()\n",
    "        optimizer.step()\n",
    "        \n",
    "        loss_record.append(loss.item())\n",
    "        plt.figure(figsize = (20, 10))\n",
    "        plt.plot(loss_record)\n",
    "        plt.xlabel('iterations')\n",
    "        plt.ylabel('loss')\n",
    "        plt.savefig(root_dir + 'recover/SSIM-CONV/DAE_loss.png')\n",
    "        \n",
    "        if i % 20 == 0:\n",
    "            inn = inputs[0].view(256, 128).detach().numpy() * 255\n",
    "            cv2.imwrite(\"/home/tk/Documents/recover/SSIM-CONV/\" + str(epo) + \"_\" + str(i) + \".png\", inn)\n",
    "            \n",
    "            out = outputs[0].view(256, 128).detach().numpy() * 255\n",
    "            cv2.imwrite(\"/home/tk/Documents/recover/SSIM-CONV/\" + str(epo) + \"_\" + str(i) + \"_re.png\", out)\n",
    "            \n",
    "            \n",
    "#        every_loss.append(loss.item())\n",
    "#        del inputs, data\n",
    "\n",
    "        if i % 10 == 0:\n",
    "            print ('[%d, %5d] loss: %.3f' % (epo, i, loss.item()))\n",
    "#            print ('[%d, %5d] ssim: %.3f' % (epo, i, ssim_value))\n",
    "   \n",
    "    gc.collect()\n",
    "    plt.close(\"all\")\n",
    "\n",
    "#    epoch_loss.append(np.mean(every_loss))\n",
    "#    every_loss = []\n",
    "    \n",
    "\n",
    "\n",
    "#        plt.figure(figsize = (20, 10))\n",
    "#        plt.plot(epoch_loss)\n",
    "#        plt.xlabel('epocs')\n",
    "#        plt.ylabel('epoch_loss')\n",
    "#        plt.savefig(root_dir + 'DAE_epoch_loss')\n",
    "\n",
    "    \n",
    "#=============================================\n",
    "#        Save Model & Loss\n",
    "#=============================================\n",
    "\n",
    "torch.save(model, root_dir + 'recover/SSIM-CONV/DAE_SSIM.pkl')"
   ]
  },
  {
   "cell_type": "code",
   "execution_count": null,
   "metadata": {
    "collapsed": true
   },
   "outputs": [],
   "source": [
    "import torch\n",
    "import torch.DataSets"
   ]
  },
  {
   "cell_type": "code",
   "execution_count": null,
   "metadata": {
    "collapsed": true
   },
   "outputs": [],
   "source": [
    "mix_list = []\n",
    "mix_label_list = []\n",
    "class mixDataSet(Dataset):\n",
    "    def __init__(self, mix_dir, mix_label_dir):           \n",
    "        \n",
    "        with open(mix_dir + 'mix3.json') as f:\n",
    "            mix_list.append(torch.Tensor(json.load(f)))\n",
    "        \n",
    "        with open(mix_label_dir + 'mix_label3.json') as f:\n",
    "            mix_label_list.append(torch.Tensor(json.load(f)))\n",
    "        \n",
    "        mixblock = torch.cat(mix_list, 0)\n",
    "        mixlabel = torch.cat(mix_label_list, 0)\n",
    "        \n",
    "        self.mix_spec = mixblock\n",
    "        self.mix_label = mixlabel\n",
    "        \n",
    "    def __len__(self):\n",
    "        return self.mix_spec.shape[0]\n",
    "\n",
    "    def __getitem__(self, spec_index, label_index): \n",
    "\n",
    "        mix_spec = self.mix_spec[spec_index]\n",
    "        mix_label = self.mix_label[label_index]\n",
    "        return mix_spec, mix_label"
   ]
  },
  {
   "cell_type": "code",
   "execution_count": null,
   "metadata": {
    "collapsed": true
   },
   "outputs": [],
   "source": [
    "mixset = mixDataSet(mix_dir, mix_label_dir)"
   ]
  },
  {
   "cell_type": "code",
   "execution_count": null,
   "metadata": {
    "collapsed": true
   },
   "outputs": [],
   "source": [
    "mixset.__len__()"
   ]
  },
  {
   "cell_type": "code",
   "execution_count": null,
   "metadata": {
    "collapsed": true
   },
   "outputs": [],
   "source": [
    "mixset.__getitem__(150,19)"
   ]
  },
  {
   "cell_type": "code",
   "execution_count": null,
   "metadata": {
    "collapsed": true
   },
   "outputs": [],
   "source": [
    "jh = open('/home/tk/Documents/mix/mix3.json').read()\n",
    "a = json.loads(jh)"
   ]
  },
  {
   "cell_type": "code",
   "execution_count": null,
   "metadata": {
    "collapsed": true
   },
   "outputs": [],
   "source": [
    "jh = open('/home/tk/Documents/mix_labels/mix_label3.json').read()\n",
    "b = json.loads(jh)"
   ]
  },
  {
   "cell_type": "code",
   "execution_count": null,
   "metadata": {
    "collapsed": true
   },
   "outputs": [],
   "source": [
    "a = np.array(a)\n",
    "b = np.array(b)"
   ]
  },
  {
   "cell_type": "code",
   "execution_count": null,
   "metadata": {
    "collapsed": true
   },
   "outputs": [],
   "source": [
    "a.shape"
   ]
  },
  {
   "cell_type": "code",
   "execution_count": null,
   "metadata": {
    "collapsed": true
   },
   "outputs": [],
   "source": [
    "b.shape"
   ]
  },
  {
   "cell_type": "code",
   "execution_count": null,
   "metadata": {
    "collapsed": true
   },
   "outputs": [],
   "source": [
    "b = np.array(b)\n",
    "b.shape"
   ]
  },
  {
   "cell_type": "code",
   "execution_count": null,
   "metadata": {
    "collapsed": true
   },
   "outputs": [],
   "source": [
    "b[]"
   ]
  },
  {
   "cell_type": "code",
   "execution_count": null,
   "metadata": {
    "collapsed": true
   },
   "outputs": [],
   "source": [
    "import numpy as np\n",
    "a = np.array(a)"
   ]
  },
  {
   "cell_type": "code",
   "execution_count": null,
   "metadata": {
    "collapsed": true
   },
   "outputs": [],
   "source": [
    "a.shape"
   ]
  },
  {
   "cell_type": "code",
   "execution_count": null,
   "metadata": {
    "collapsed": true
   },
   "outputs": [],
   "source": [
    "a[140]"
   ]
  },
  {
   "cell_type": "code",
   "execution_count": null,
   "metadata": {
    "collapsed": true
   },
   "outputs": [],
   "source": [
    "mixfolder = os.listdir(mix_dir)\n",
    "mixfolder.sort()"
   ]
  },
  {
   "cell_type": "code",
   "execution_count": null,
   "metadata": {
    "collapsed": true
   },
   "outputs": [],
   "source": [
    "mixfolder"
   ]
  },
  {
   "cell_type": "code",
   "execution_count": null,
   "metadata": {
    "collapsed": true
   },
   "outputs": [],
   "source": [
    "clean_dir = root_dir + 'clean/' \n",
    "mix_dir = root_dir + 'mix/' \n",
    "clean_label_dir = root_dir + 'clean_labels/' \n",
    "mix_label_dir = root_dir + 'mix_labels/' "
   ]
  },
  {
   "cell_type": "code",
   "execution_count": null,
   "metadata": {
    "collapsed": true
   },
   "outputs": [],
   "source": [
    "a = [1.0623e-07, 1.3231e-03, 5.5651e-06, 2.8495e-02, 1.3299e-04, 5.2328e-06, 7.2000e-04, 2.8051e-05, 3.9795e-02, 9.8838e-01]"
   ]
  },
  {
   "cell_type": "code",
   "execution_count": null,
   "metadata": {
    "collapsed": true,
    "scrolled": true
   },
   "outputs": [],
   "source": [
    "torch.max(a, 0)"
   ]
  },
  {
   "cell_type": "code",
   "execution_count": null,
   "metadata": {
    "collapsed": true
   },
   "outputs": [],
   "source": [
    "a = torch.tensor([[1.0578e-02, 3.3309e-01, 5.5529e-01, 1.0909e-02, 3.8428e-02, 1.3777e-03,\n",
    "         1.2060e-02, 4.5675e-02, 1.5102e-01, 5.5134e-01],\n",
    "        [4.0438e-05, 2.1043e-04, 1.2589e-01, 5.1516e-03, 6.8046e-04, 9.9534e-03,\n",
    "         1.8230e-03, 5.8381e-06, 2.6256e-01, 7.9211e-01],\n",
    "        [1.2880e-03, 2.0016e-02, 3.5143e-02, 4.8582e-02, 1.2939e-02, 1.1453e-02,\n",
    "         1.3557e-01, 3.3008e-02, 2.6488e-01, 2.6349e-01],\n",
    "        [3.3836e-03, 7.3263e-02, 1.7925e-02, 2.2843e-01, 4.1886e-02, 1.5798e-02,\n",
    "         2.4491e-02, 5.4132e-03, 1.6431e-01, 2.7407e-02],\n",
    "        [5.5855e-02, 1.1084e-01, 1.7244e-02, 6.8025e-04, 2.2809e-02, 3.1570e-01,\n",
    "         3.4346e-03, 3.9227e-01, 7.6018e-03, 1.7340e-01],\n",
    "        [2.1523e-01, 7.6109e-02, 4.9581e-02, 9.8011e-04, 1.0011e-01, 2.1144e-01,\n",
    "         1.9372e-02, 4.0609e-02, 1.3001e-02, 2.5672e-03],\n",
    "        [7.3727e-02, 2.0658e-01, 9.7838e-02, 5.0830e-04, 4.4293e-03, 4.8621e-03,\n",
    "         6.2715e-02, 4.8715e-02, 2.3443e-03, 8.7680e-04],\n",
    "        [1.0301e-04, 2.3858e-03, 1.3977e-02, 6.8922e-04, 8.5931e-03, 2.2245e-04,\n",
    "         9.8420e-01, 3.0137e-03, 6.7784e-02, 6.7894e-03],\n",
    "        [2.2825e-03, 1.6498e-01, 2.2518e-02, 1.0465e-03, 7.4058e-03, 8.8901e-01,\n",
    "         8.0338e-02, 1.3140e-01, 1.8809e-03, 3.2917e-03],\n",
    "        [8.2398e-03, 5.5224e-02, 2.2561e-02, 1.9494e-04, 2.3196e-02, 3.1043e-03,\n",
    "         3.8204e-01, 9.6084e-03, 1.9456e-03, 1.7574e-03],\n",
    "        [1.0623e-07, 1.3231e-03, 5.5651e-06, 2.8495e-02, 1.3299e-04, 5.2328e-06,\n",
    "         7.2000e-04, 2.8051e-05, 3.9795e-02, 9.8838e-01],\n",
    "        [3.3474e-03, 1.8030e-03, 9.8147e-01, 8.5557e-05, 2.4013e-05, 1.0115e-02,\n",
    "         8.4762e-04, 1.3052e-03, 7.6764e-03, 1.2625e-04],\n",
    "        [2.0284e-03, 6.2676e-04, 1.0758e-04, 1.1942e-06, 1.7032e-05, 2.7349e-04,\n",
    "         5.7749e-03, 2.9111e-01, 6.8634e-04, 1.4915e-04],\n",
    "        [1.3000e-03, 2.7204e-05, 2.6371e-03, 4.6776e-04, 1.0860e-05, 8.1055e-04,\n",
    "         3.0986e-04, 2.8704e-06, 9.5868e-02, 1.2196e-01],\n",
    "        [8.1448e-04, 5.3910e-06, 4.3349e-05, 9.9108e-01, 2.1359e-05, 2.3141e-08,\n",
    "         3.6492e-02, 8.2024e-09, 1.9351e-01, 6.2107e-05],\n",
    "        [4.6230e-05, 3.4710e-02, 2.7775e-03, 1.2075e-05, 1.6022e-04, 9.7403e-01,\n",
    "         1.1194e-02, 5.7854e-02, 4.9520e-06, 6.2279e-06]])\n"
   ]
  },
  {
   "cell_type": "code",
   "execution_count": null,
   "metadata": {
    "collapsed": true
   },
   "outputs": [],
   "source": [
    "_, predict = torch.max(a, 1)"
   ]
  },
  {
   "cell_type": "code",
   "execution_count": null,
   "metadata": {
    "collapsed": true
   },
   "outputs": [],
   "source": [
    "predict"
   ]
  },
  {
   "cell_type": "code",
   "execution_count": null,
   "metadata": {
    "collapsed": true
   },
   "outputs": [],
   "source": [
    "blank = []\n",
    "for i in predict:\n",
    "    b = np.zeros(10)\n",
    "    b[i] = 1\n",
    "    blank.append(b)\n",
    "    "
   ]
  },
  {
   "cell_type": "code",
   "execution_count": null,
   "metadata": {
    "collapsed": true,
    "scrolled": true
   },
   "outputs": [],
   "source": [
    "b"
   ]
  },
  {
   "cell_type": "code",
   "execution_count": null,
   "metadata": {
    "collapsed": true
   },
   "outputs": [],
   "source": [
    "print (blank)"
   ]
  },
  {
   "cell_type": "code",
   "execution_count": null,
   "metadata": {
    "collapsed": true
   },
   "outputs": [],
   "source": [
    "labels = torch.tensor([[0., 0., 0., 0., 0., 0., 0., 1., 0., 0.],\n",
    "        [0., 0., 1., 0., 0., 0., 0., 0., 0., 0.],\n",
    "        [0., 0., 0., 0., 0., 1., 0., 0., 0., 0.],\n",
    "        [0., 0., 0., 0., 1., 0., 0., 0., 0., 0.],\n",
    "        [0., 0., 0., 0., 1., 0., 0., 0., 0., 0.],\n",
    "        [1., 0., 0., 0., 0., 0., 0., 0., 0., 0.],\n",
    "        [0., 0., 0., 0., 0., 0., 0., 0., 1., 0.],\n",
    "        [0., 0., 0., 0., 0., 1., 0., 0., 0., 0.],\n",
    "        [0., 0., 0., 0., 0., 0., 0., 1., 0., 0.],\n",
    "        [0., 0., 1., 0., 0., 0., 0., 0., 0., 0.],\n",
    "        [0., 0., 0., 0., 1., 0., 0., 0., 0., 0.],\n",
    "        [0., 0., 0., 0., 0., 0., 0., 0., 1., 0.],\n",
    "        [0., 0., 1., 0., 0., 0., 0., 0., 0., 0.],\n",
    "        [0., 0., 0., 0., 1., 0., 0., 0., 0., 0.],\n",
    "        [0., 0., 1., 0., 0., 0., 0., 0., 0., 0.],\n",
    "        [0., 0., 0., 0., 0., 0., 0., 0., 1., 0.]])"
   ]
  },
  {
   "cell_type": "code",
   "execution_count": null,
   "metadata": {
    "collapsed": true
   },
   "outputs": [],
   "source": [
    "predicted = torch.tensor([[1., 0., 0., 0., 0., 0., 0., 0., 0., 0.],\n",
    "        [0., 0., 1., 0., 0., 0., 0., 0., 0., 0.],\n",
    "        [0., 0., 0., 0., 0., 1., 0., 0., 0., 0.],\n",
    "        [0., 0., 0., 0., 1., 0., 0., 0., 0., 0.],\n",
    "        [0., 0., 0., 0., 1., 0., 0., 0., 0., 0.],\n",
    "        [1., 0., 0., 0., 0., 0., 0., 0., 0., 0.],\n",
    "        [0., 0., 0., 0., 0., 0., 0., 0., 1., 0.],\n",
    "        [0., 1., 0., 0., 0., 0., 0., 0., 0., 0.],\n",
    "        [0., 0., 0., 0., 0., 0., 0., 1., 0., 0.],\n",
    "        [0., 0., 1., 0., 0., 0., 0., 0., 0., 0.],\n",
    "        [0., 0., 0., 0., 1., 0., 0., 0., 0., 0.],\n",
    "        [0., 0., 0., 0., 0., 0., 0., 0., 1., 0.],\n",
    "        [0., 0., 0., 0., 0., 0., 0., 0., 0., 1.],\n",
    "        [0., 1., 0., 0., 0., 0., 0., 0., 0., 0.],\n",
    "        [0., 0., 1., 0., 0., 0., 0., 0., 0., 0.],\n",
    "        [0., 0., 0., 0., 0., 0., 0., 0., 1., 0.]], dtype=torch.float64)"
   ]
  },
  {
   "cell_type": "code",
   "execution_count": null,
   "metadata": {
    "collapsed": true
   },
   "outputs": [],
   "source": [
    "labels == predicted"
   ]
  },
  {
   "cell_type": "code",
   "execution_count": null,
   "metadata": {
    "collapsed": true
   },
   "outputs": [],
   "source": [
    "9/16"
   ]
  },
  {
   "cell_type": "code",
   "execution_count": null,
   "metadata": {
    "collapsed": true
   },
   "outputs": [],
   "source": [
    "class featureDataSet(Dataset):\n",
    "    def __init__(self, clean_dir, clean_label_dir):\n",
    "                \n",
    "        for i in cleanfolder:\n",
    "            with open(clean_dir + '{}'.format(i)) as f:\n",
    "                clean_list.append(torch.Tensor(json.load(f)))\n",
    "                \n",
    "        for i in cleanlabelfolder:\n",
    "            with open(clean_label_dir + '{}'.format(i)) as f:\n",
    "                clean_label_list.append(torch.Tensor(json.load(f)))\n",
    "        \n",
    "        cleanblock = torch.cat(clean_list, 0)\n",
    "        self.spec = torch.cat([cleanblock], 0)\n",
    "                \n",
    "        cleanlabel = torch.cat(clean_label_list, 0)\n",
    "        self.label = torch.cat([cleanlabel], 0)\n",
    "\n",
    "        \n",
    "    def __len__(self):\n",
    "        return self.spec.shape[0]\n",
    "\n",
    "                \n",
    "    def __getitem__(self, index): \n",
    "\n",
    "        spec = self.spec[index]\n",
    "        label = self.label[index]\n",
    "        return spec, label"
   ]
  },
  {
   "cell_type": "code",
   "execution_count": null,
   "metadata": {
    "collapsed": true
   },
   "outputs": [],
   "source": []
  },
  {
   "cell_type": "code",
   "execution_count": null,
   "metadata": {
    "collapsed": true
   },
   "outputs": [],
   "source": [
    "root_dir = '/home/tk/Documents/'\n",
    "clean_dir = root_dir + 'clean/' \n",
    "mix_dir = root_dir + 'mix/' \n",
    "clean_label_dir = root_dir + 'clean_labels/' \n",
    "mix_label_dir = root_dir + 'mix_labels/' \n",
    "\n",
    "cleanfolder = os.listdir(clean_dir)\n",
    "cleanfolder.sort()\n",
    "\n",
    "cleanlabelfolder = os.listdir(clean_label_dir)\n",
    "cleanlabelfolder.sort()\n",
    "\n",
    "clean_list = []\n",
    "clean_label_list = []"
   ]
  },
  {
   "cell_type": "code",
   "execution_count": null,
   "metadata": {
    "collapsed": true
   },
   "outputs": [],
   "source": [
    "c = featureDataSet(clean_dir, clean_label_dir)\n",
    "spec, label = c.__getitem__(0)"
   ]
  },
  {
   "cell_type": "code",
   "execution_count": null,
   "metadata": {
    "collapsed": true
   },
   "outputs": [],
   "source": [
    "print (spec, label)"
   ]
  },
  {
   "cell_type": "markdown",
   "metadata": {},
   "source": [
    "#### White noise"
   ]
  },
  {
   "cell_type": "code",
   "execution_count": null,
   "metadata": {
    "collapsed": true
   },
   "outputs": [],
   "source": [
    "import numpy as np \n",
    "import matplotlib.pyplot as plt\n",
    "%matplotlib inline\n",
    "\n",
    "def white_noise(num_samples):\n",
    "    mean = -10\n",
    "    std = 1\n",
    "    num_samples = num_samples\n",
    "    samples = np.random.normal(mean, std, size = num_samples)\n",
    "\n",
    "    return samples"
   ]
  },
  {
   "cell_type": "markdown",
   "metadata": {},
   "source": [
    "#### Pink Noise"
   ]
  },
  {
   "cell_type": "code",
   "execution_count": null,
   "metadata": {
    "collapsed": true
   },
   "outputs": [],
   "source": [
    "def voss(nrows, ncols = 16):\n",
    "    \n",
    "    import pandas as pd\n",
    "    array = np.empty((nrows, ncols))\n",
    "    array.fill(np.nan)\n",
    "    array[0, :] = np.random.random(ncols)\n",
    "    array[:, 0] = np.random.random(nrows)\n",
    "    \n",
    "    n = nrows\n",
    "    cols = np.random.geometric(0.5, n)\n",
    "    cols[cols >= ncols] = 0\n",
    "    \n",
    "    rows = np.random.randint(nrows, size = n)\n",
    "    array[rows, cols] = np.random.random(n)\n",
    "    \n",
    "    df = pd.DataFrame(array)\n",
    "    df.fillna(method = 'ffill', axis = 0, inplace = True)\n",
    "    total = df.sum(axis = 1)\n",
    "    \n",
    "    return total.values"
   ]
  },
  {
   "cell_type": "code",
   "execution_count": null,
   "metadata": {
    "collapsed": true
   },
   "outputs": [],
   "source": [
    "y = voss(1000, 16)"
   ]
  },
  {
   "cell_type": "code",
   "execution_count": null,
   "metadata": {
    "collapsed": true
   },
   "outputs": [],
   "source": [
    "plt.plot(y)\n",
    "plt.show()"
   ]
  },
  {
   "cell_type": "code",
   "execution_count": null,
   "metadata": {
    "collapsed": true,
    "scrolled": true
   },
   "outputs": [],
   "source": [
    "import colorednoise\n",
    "\n",
    "beta = 1\n",
    "samples = 1000\n",
    "y = colorednoise.powerlaw_psd_gaussian(beta, samples)\n",
    "plt.plot(y)\n",
    "plt.show()"
   ]
  },
  {
   "cell_type": "code",
   "execution_count": null,
   "metadata": {
    "collapsed": true
   },
   "outputs": [],
   "source": [
    "len(y)"
   ]
  },
  {
   "cell_type": "code",
   "execution_count": null,
   "metadata": {
    "collapsed": true
   },
   "outputs": [],
   "source": [
    "y = np.array(y).reshape(100, 10)\n",
    "y.shape"
   ]
  },
  {
   "cell_type": "code",
   "execution_count": null,
   "metadata": {
    "collapsed": true
   },
   "outputs": [],
   "source": [
    "import cv2"
   ]
  },
  {
   "cell_type": "code",
   "execution_count": null,
   "metadata": {
    "collapsed": true
   },
   "outputs": [],
   "source": [
    "j = open('/home/tk/Documents/clean/clean10.json').read()\n",
    "a = json.loads(j)\n",
    "a = np.array(a)\n",
    "print(a.shape)"
   ]
  },
  {
   "cell_type": "code",
   "execution_count": null,
   "metadata": {
    "collapsed": true
   },
   "outputs": [],
   "source": [
    "a[1]\n",
    "cv2.imwrite('/home/tk/Desktop/original.png', a[1]*255)"
   ]
  },
  {
   "cell_type": "code",
   "execution_count": null,
   "metadata": {
    "collapsed": true
   },
   "outputs": [],
   "source": [
    "import numpy as np \n",
    "import matplotlib.pyplot as plt\n",
    "%matplotlib inline\n",
    "\n",
    "def white_noise(num_samples):\n",
    "    mean = 0\n",
    "    std = 0.3\n",
    "    num_samples = num_samples\n",
    "    samples = np.random.normal(mean, std, size = num_samples)\n",
    "\n",
    "    return samples"
   ]
  },
  {
   "cell_type": "code",
   "execution_count": null,
   "metadata": {
    "collapsed": true
   },
   "outputs": [],
   "source": [
    "white = white_noise(256*128)\n",
    "white = white.reshape(256, 128)\n",
    "\n",
    "a_white = a[1] + white\n",
    "cv2.imwrite('/home/tk/Desktop/original_white.png', a_white * 255)"
   ]
  },
  {
   "cell_type": "code",
   "execution_count": null,
   "metadata": {
    "collapsed": true
   },
   "outputs": [],
   "source": [
    "a_white = a[1] + white\n",
    "cv2.imwrite('/home/tk/Desktop/original_white.png', a_white * 255)"
   ]
  },
  {
   "cell_type": "code",
   "execution_count": null,
   "metadata": {
    "collapsed": true
   },
   "outputs": [],
   "source": [
    "def slice_it(filename, input_path, output_path, length):\n",
    "    from pydub import AudioSegment\n",
    "    from pydub.utils import make_chunks\n",
    "    \n",
    "\n",
    "    # slice the file\n",
    "    myaudio = AudioSegment.from_file(input_path + filename, 'wav') \n",
    "    chunks = make_chunks(myaudio, length) # Make chunks\n",
    "\n",
    "    #Export all individual chunks as wav files\n",
    "    for i, chunk in enumerate(chunks):\n",
    "        chunk_name = filename[:-4] + \"_{0}.wav\".format(i) # select first 6 characters as file name\n",
    "        print (\"exporting\", chunk_name)\n",
    "        chunk.export(output_path + chunk_name, format=\"wav\")\n",
    "\n",
    "    # dump the last slice (might be an incomplete slice)\n",
    "    dump_file = [] \n",
    "    chunk_list = os.listdir(output_path)\n",
    "    if '.DS_Store' in chunk_list:\n",
    "        chunk_list.remove('.DS_Store')"
   ]
  },
  {
   "cell_type": "code",
   "execution_count": null,
   "metadata": {
    "collapsed": true
   },
   "outputs": [],
   "source": [
    "len(sliced_list)"
   ]
  },
  {
   "cell_type": "code",
   "execution_count": null,
   "metadata": {
    "collapsed": true
   },
   "outputs": [],
   "source": [
    "full_audio = ['birdstudybook_', 'captaincook_', 'cloudstudies_02_clayden_12_', \n",
    "              'constructivebeekeeping_',\n",
    "              'discoursesbiologicalgeological_16_huxley_12_', \n",
    "              'natureguide_', 'pioneersoftheoldsouth_', \n",
    "              'pioneerworkalps_02_harper_12_', \n",
    "              'romancecommonplace_', 'travelstoriesretold_']"
   ]
  },
  {
   "cell_type": "code",
   "execution_count": null,
   "metadata": {
    "collapsed": true
   },
   "outputs": [],
   "source": [
    "len(sliced_list)"
   ]
  },
  {
   "cell_type": "code",
   "execution_count": null,
   "metadata": {
    "collapsed": true
   },
   "outputs": [],
   "source": [
    "sliced_list[700]"
   ]
  },
  {
   "cell_type": "code",
   "execution_count": null,
   "metadata": {
    "collapsed": true
   },
   "outputs": [],
   "source": [
    "cnt = 0\n",
    "sliced_list = []\n",
    "for name in full_audio:\n",
    "    for i in range(60, 160):\n",
    "        m = name + str(i) + '.wav'\n",
    "        sliced_list.append(m)\n",
    "        del m\n",
    "        cnt +=1\n",
    "        \n",
    "print (sliced_list)\n",
    "print (cnt)"
   ]
  },
  {
   "cell_type": "code",
   "execution_count": null,
   "metadata": {
    "collapsed": true
   },
   "outputs": [],
   "source": [
    "import os\n",
    "for j in sliced_list:\n",
    "    slice_it(j, '/home/tk/Documents/slice_10sec/', '/home/tk/Documents/sliced_pool/', 500)"
   ]
  },
  {
   "cell_type": "code",
   "execution_count": null,
   "metadata": {
    "collapsed": true
   },
   "outputs": [],
   "source": [
    "p = os.listdir('/home/tk/Documents/slice_pointsec/')\n",
    "\n",
    "for ev in p:\n",
    "    os.remove('/home/tk/Documents/slice_pointsec/' + ev)"
   ]
  },
  {
   "cell_type": "code",
   "execution_count": null,
   "metadata": {
    "collapsed": true
   },
   "outputs": [],
   "source": [
    "g = os.listdir('/home/tk/Documents/sliced_pool/')\n",
    "print (len(g))"
   ]
  },
  {
   "cell_type": "code",
   "execution_count": null,
   "metadata": {
    "collapsed": true
   },
   "outputs": [],
   "source": [
    "selected_audio = np.random.choice(g, size = 2, replace = False)\n",
    "if selected_audio[0][:8] == selected_audio[1][:8]:\n",
    "    selected_audio = np.random.choice(g, size = 2, replace = False)\n",
    "if r[0][:8] == r[1][:8]:\n",
    "    selected_audio = np.random.choice(g, size = 2, replace = False)\n",
    "print (selected_audio)"
   ]
  },
  {
   "cell_type": "code",
   "execution_count": null,
   "metadata": {
    "collapsed": true
   },
   "outputs": [],
   "source": [
    "import cv2\n",
    "cv2.imwrite('/home/tk/Desktop/spec0.png', spec0 * 255)\n",
    "cv2.imwrite('/home/tk/Desktop/spec1.png', spec1 * 255)\n",
    "cv2.imwrite('/home/tk/Desktop/mixed_spec.png', mixed_spec * 255)\n"
   ]
  },
  {
   "cell_type": "code",
   "execution_count": null,
   "metadata": {
    "collapsed": true
   },
   "outputs": [],
   "source": [
    "root_dir = '/home/tk/Documents/'\n",
    "\n",
    "stock = []\n",
    "spec0_cluster = []\n",
    "spec1_cluster = []\n",
    "\n",
    "for j in range(10):\n",
    "    for i in range(100):\n",
    "        from data_process import gen_spectrogram\n",
    "\n",
    "        selected_audio = np.random.choice(g, size = 2, replace = False)\n",
    "\n",
    "        # prevent to select from the same source\n",
    "        if selected_audio[0][:8] == selected_audio[1][:8]: \n",
    "            selected_audio = np.random.choice(g, size = 2, replace = False)\n",
    "        if r[0][:8] == r[1][:8]:\n",
    "            selected_audio = np.random.choice(g, size = 2, replace = False)\n",
    "        print (selected_audio)\n",
    "\n",
    "        # generate 2 spectrograms & mix\n",
    "        gen_path0 = '/home/tk/Documents/sliced_pool/' + selected_audio[0]\n",
    "        gen_path1 = '/home/tk/Documents/sliced_pool/' + selected_audio[1]\n",
    "        spec0 = gen_spectrogram(gen_path0)\n",
    "        spec1 = gen_spectrogram(gen_path1)\n",
    "        mixed_spec = spec0 + spec1\n",
    "\n",
    "        # append the mixed spectrograms\n",
    "        stock.append(mixed_spec)\n",
    "        spec0_cluster.append(spec0)\n",
    "        spec1_cluster.append(spec1)\n",
    "\n",
    "    stock = np.array(stock)\n",
    "    print ('mixed_spec shape = ', stock.shape)\n",
    "\n",
    "    spec0_cluster = np.array(spec0_cluster)\n",
    "    print ('spec0 cluster shape = ', spec0_cluster.shape)\n",
    "\n",
    "    spec1_cluster = np.array(spec1_cluster)\n",
    "    print ('spec1 cluster shape = ', spec1_cluster.shape)\n",
    "\n",
    "    with open(root_dir + \"mix_pool/mix_spec/\" + str(j) + '.json', 'w') as jh:\n",
    "        json.dump(stock.tolist(), jh)\n",
    "\n",
    "    with open(root_dir + \"mix_pool/spec0/\" + str(j) + '.json', 'w') as jh:\n",
    "        json.dump(spec0_cluster.tolist(), jh)\n",
    "\n",
    "    with open(root_dir + \"mix_pool/spec1/\" + str(j) + '.json', 'w') as jh:\n",
    "        json.dump(spec1_cluster.tolist(), jh)"
   ]
  },
  {
   "cell_type": "code",
   "execution_count": null,
   "metadata": {
    "collapsed": true
   },
   "outputs": [],
   "source": [
    "stock = np.array(stock)"
   ]
  },
  {
   "cell_type": "code",
   "execution_count": null,
   "metadata": {
    "collapsed": true
   },
   "outputs": [],
   "source": [
    "stock.shape"
   ]
  },
  {
   "cell_type": "code",
   "execution_count": null,
   "metadata": {
    "collapsed": true
   },
   "outputs": [],
   "source": [
    "import random\n",
    "random.seed(7)"
   ]
  },
  {
   "cell_type": "code",
   "execution_count": null,
   "metadata": {
    "collapsed": true
   },
   "outputs": [],
   "source": [
    "from pydub import AudioSegment\n",
    "from pydub.utils import make_chunks\n",
    "import os\n",
    "import gc\n",
    "import matplotlib.pyplot as plt\n",
    "import scipy\n",
    "import scipy.io.wavfile\n",
    "import numpy as np\n",
    "import json\n",
    "import data_process"
   ]
  },
  {
   "cell_type": "code",
   "execution_count": null,
   "metadata": {
    "collapsed": true
   },
   "outputs": [],
   "source": [
    "full_audio = ['birdstudybook_', 'captaincook_', 'cloudstudies_02_clayden_12_', \n",
    "              'constructivebeekeeping_',\n",
    "              'discoursesbiologicalgeological_16_huxley_12_', \n",
    "              'natureguide_', 'pioneersoftheoldsouth_', \n",
    "              'pioneerworkalps_02_harper_12_', \n",
    "              'romancecommonplace_', 'travelstoriesretold_']\n",
    "\n",
    "folder_name = ['a', 'b', 'c', 'd', 'e', 'f', 'g', 'h', 'i', 'j']\n",
    "\n",
    "seq = enumerate(full_audio, folder_name)\n"
   ]
  },
  {
   "cell_type": "code",
   "execution_count": null,
   "metadata": {
    "collapsed": true
   },
   "outputs": [],
   "source": [
    "from pydub import AudioSegment\n",
    "from pydub.utils import make_chunks\n",
    "import os\n",
    "import gc\n",
    "import matplotlib.pyplot as plt\n",
    "import scipy\n",
    "import scipy.io.wavfile\n",
    "import numpy as np\n",
    "import json\n",
    "import data_process\n",
    "\n",
    "# parameters:\n",
    "\n",
    "## 10 sec slicing:\n",
    "full_audio_path = '/home/tk/Documents/full_audio/' # full audio will be stored here\n",
    "sec10_sliced_path = '/home/tk/Documents/slice_10sec/' # 10 sec sliced will be stored here"
   ]
  },
  {
   "cell_type": "code",
   "execution_count": null,
   "metadata": {
    "collapsed": true
   },
   "outputs": [],
   "source": [
    "a = [1,2,3,4,5]\n",
    "a = np.mean(a)\n",
    "print (a)"
   ]
  },
  {
   "cell_type": "code",
   "execution_count": null,
   "metadata": {
    "collapsed": true
   },
   "outputs": [],
   "source": [
    "a = np.random.randn(200, 200)\n",
    "b = np.random.randn(200, 200)"
   ]
  },
  {
   "cell_type": "code",
   "execution_count": null,
   "metadata": {
    "collapsed": true
   },
   "outputs": [],
   "source": [
    "c = np.zeros((200,200))\n",
    "c = c + a+ b"
   ]
  },
  {
   "cell_type": "code",
   "execution_count": null,
   "metadata": {
    "collapsed": true
   },
   "outputs": [],
   "source": [
    "import numpy as np\n",
    "import os\n",
    "from data_process import gen_spectrogram\n",
    "import json\n",
    "\n",
    "root_dir = '/home/tk/Documents/'\n",
    "sliced_pool_path = '/home/tk/Documents/sliced_pool/'\n",
    "mixed_pool_path =  '/home/tk/Documents/mix_pool/'\n",
    "\n",
    "full_audio = ['birdstudybook', 'captaincook', 'cloudstudies_02_clayden_12', \n",
    "              'constructivebeekeeping',\n",
    "              'discoursesbiologicalgeological_16_huxley_12', \n",
    "              'natureguide', 'pioneersoftheoldsouth', \n",
    "              'pioneerworkalps_02_harper_12', \n",
    "              'romancecommonplace', 'travelstoriesretold']"
   ]
  },
  {
   "cell_type": "code",
   "execution_count": null,
   "metadata": {
    "collapsed": true,
    "scrolled": false
   },
   "outputs": [],
   "source": [
    "blocks = 10\n",
    "for i in range(blocks):\n",
    "    for name in full_audio:\n",
    "        \n",
    "        all_clean_spec = []\n",
    "        if (mixed_pool_path + 'feature/' + name) == False:\n",
    "            os.mkdir(mixed_pool_path + 'feature/' + name)\n",
    "        \n",
    "        file_name_list = os.listdir(sliced_pool_path + name + '/clean/')\n",
    "        file_name = np.random.choice(file_name_list, 100)\n",
    "        \n",
    "        for k in file_name:\n",
    "            spec = gen_spectrogram(sliced_pool_path + name + '/clean/' + k)\n",
    "            print (k)\n",
    "            all_clean_spec.append(spec)\n",
    "            \n",
    "            \n",
    "        all_clean_spec = np.array(all_clean_spec)\n",
    "        all_clean_spec = np.stack(all_clean_spec)\n",
    "            \n",
    "        print (\"name = \", name , \", shape = \", all_clean_spec.shape)\n",
    "       \n",
    "    with open(mixed_pool_path +  '/feature/' + name + '/' + str(i) + '.json', 'w') as jh:\n",
    "        json.dump(all_clean_spec.tolist(), jh)\n",
    "\n",
    "\n"
   ]
  },
  {
   "cell_type": "code",
   "execution_count": 5,
   "metadata": {
    "collapsed": true
   },
   "outputs": [],
   "source": [
    "import torch\n",
    "import torch.nn as nn\n",
    "import torch.nn.functional as F\n",
    "import torch.optim as optim\n",
    "from torch.utils.data import Dataset, DataLoader\n",
    "import torch.utils.data as data\n",
    "import torch.nn.init as init\n",
    "import pytorch_ssim\n",
    "\n",
    "import torchvision\n",
    "import torchvision.transforms as transforms\n",
    "from torch.autograd import Variable\n",
    "\n",
    "import matplotlib.pyplot as plt\n",
    "import pickle\n",
    "import os\n",
    "import json\n",
    "import numpy as np\n",
    "import gc\n",
    "import cv2\n",
    "\n",
    "server = False\n",
    "\n",
    "root_dir = '/home/tk/Documents/'\n",
    "if server == True:\n",
    "    root_dir = '/home/guotingyou/cocktail_phase2/'\n",
    "\n",
    "\n",
    "clean_dir = '/home/tk/Documents/mix_pool/feature/' \n",
    "mix_dir = '/home/tk/Documents/mix_pool/mix_spec/' \n",
    "# clean_label_dir = '/home/tk/Documents/clean_labels/' \n",
    "mix_label_dir = '/home/tk/Documents/mix_pool/mix_labels/' \n",
    "target_spec_dir = '/home/tk/Documents/mix_pool/target_spec/'\n",
    "target_label_dir = '/home/tk/Documents/mix_pool/target_label/'"
   ]
  },
  {
   "cell_type": "code",
   "execution_count": 57,
   "metadata": {
    "collapsed": true
   },
   "outputs": [],
   "source": [
    "class mixDataSet(Dataset):\n",
    "    \n",
    "    def __init__(self, mix_dir, target_spec_dir, target_label_dir):           \n",
    "        \n",
    "        mix_list = []\n",
    "        target_spec_list = []\n",
    "        target_label_list = []\n",
    "\n",
    "        with open(mix_dir + 'mix_spec2.json') as f:\n",
    "            mix_list.append(torch.Tensor(json.load(f)))\n",
    "        \n",
    "        with open(target_spec_dir + 'target_spec2.json') as f:\n",
    "            target_spec_list.append(torch.Tensor(json.load(f)))\n",
    "            \n",
    "        with open(target_label_dir + 'target_label2.json') as f:\n",
    "            target_label_list.append(torch.Tensor(json.load(f)))\n",
    "        \n",
    "        \n",
    "\n",
    "        mixblock = torch.cat(mix_list, 0)\n",
    "        targetspec = torch.cat(target_spec_list, 0)\n",
    "        targetlabel = torch.cat(target_label_list, 0)\n",
    "        \n",
    "        self.mix_spec = mixblock\n",
    "        self.target_spec = targetspec\n",
    "        self.target_label = targetlabel\n",
    "\n",
    "    def __len__(self):\n",
    "        return self.mix_spec.shape[0]\n",
    "\n",
    "\n",
    "    def __getitem__(self, index): \n",
    "\n",
    "        mix_spec = self.mix_spec[index]\n",
    "        target_spec = self.target_spec[index]\n",
    "        target_label = self.target_label[index]\n",
    "\n",
    "        return mix_spec, target_spec, target_label\n",
    "\n",
    "\n",
    "class featureDataSet(Dataset):\n",
    "    \n",
    "    def __init__(self, clean_dir, label):\n",
    "        \n",
    "        full_audio = ['birdstudybook', 'captaincook', 'cloudstudies_02_clayden_12', \n",
    "              'constructivebeekeeping',\n",
    "              'discoursesbiologicalgeological_16_huxley_12', \n",
    "              'natureguide', 'pioneersoftheoldsouth', \n",
    "              'pioneerworkalps_02_harper_12', \n",
    "              'romancecommonplace', 'travelstoriesretold']\n",
    "\n",
    "        feature_list = []\n",
    "\n",
    "        with open(clean_dir + full_audio[label] + '/0.json') as f:\n",
    "            featureblock = torch.Tensor(json.load(f))     \n",
    "        \n",
    "#        featureblock = torch.cat(feature_list, 0)\n",
    "        \n",
    "        self.featurespec = featureblock\n",
    "                \n",
    "        \n",
    "    def __len__(self):\n",
    "        return self.featurespec.shape[0]\n",
    "\n",
    "                \n",
    "    def __getitem__(self): \n",
    "        \n",
    "        featurespec = self.featurespec\n",
    "        return featurespec"
   ]
  },
  {
   "cell_type": "code",
   "execution_count": 63,
   "metadata": {
    "collapsed": false
   },
   "outputs": [
    {
     "data": {
      "text/plain": [
       "torch.Size([10, 256, 128])"
      ]
     },
     "execution_count": 63,
     "metadata": {},
     "output_type": "execute_result"
    }
   ],
   "source": [
    "with open(clean_dir + 'birdstudybook/0.json') as f:\n",
    "    featureblock = torch.Tensor(json.load(f))     \n",
    "\n",
    "featureblock.shape"
   ]
  },
  {
   "cell_type": "code",
   "execution_count": 66,
   "metadata": {
    "collapsed": false
   },
   "outputs": [
    {
     "data": {
      "text/plain": [
       "torch.Size([1, 256, 128])"
      ]
     },
     "execution_count": 66,
     "metadata": {},
     "output_type": "execute_result"
    }
   ],
   "source": [
    "b = torch.mean(featureblock, 0, True)\n",
    "b.shape"
   ]
  },
  {
   "cell_type": "code",
   "execution_count": null,
   "metadata": {
    "collapsed": true
   },
   "outputs": [],
   "source": []
  },
  {
   "cell_type": "code",
   "execution_count": 58,
   "metadata": {
    "collapsed": true
   },
   "outputs": [],
   "source": [
    "bs = 1"
   ]
  },
  {
   "cell_type": "code",
   "execution_count": 40,
   "metadata": {
    "collapsed": true
   },
   "outputs": [],
   "source": [
    "#=============================================\n",
    "#        Define Dataloader\n",
    "#=============================================\n",
    "\n",
    "\n",
    "mixset = mixDataSet(mix_dir, target_spec_dir, target_label_dir)\n",
    "\n",
    "mixloader = torch.utils.data.DataLoader(dataset = mixset,\n",
    "                                        batch_size = bs,\n",
    "                                        shuffle = False)"
   ]
  },
  {
   "cell_type": "code",
   "execution_count": 41,
   "metadata": {
    "collapsed": true
   },
   "outputs": [],
   "source": [
    "m, t, l = mixset.__getitem__(3)"
   ]
  },
  {
   "cell_type": "code",
   "execution_count": 42,
   "metadata": {
    "collapsed": false
   },
   "outputs": [
    {
     "data": {
      "text/plain": [
       "tensor(5.)"
      ]
     },
     "execution_count": 42,
     "metadata": {},
     "output_type": "execute_result"
    }
   ],
   "source": [
    "l"
   ]
  },
  {
   "cell_type": "code",
   "execution_count": 46,
   "metadata": {
    "collapsed": true
   },
   "outputs": [],
   "source": [
    "l = torch.tensor([1., 6., 5., 5.])"
   ]
  },
  {
   "cell_type": "code",
   "execution_count": 44,
   "metadata": {
    "collapsed": false
   },
   "outputs": [
    {
     "data": {
      "text/plain": [
       "1"
      ]
     },
     "execution_count": 44,
     "metadata": {},
     "output_type": "execute_result"
    }
   ],
   "source": [
    "int(l[0])"
   ]
  },
  {
   "cell_type": "code",
   "execution_count": 59,
   "metadata": {
    "collapsed": true
   },
   "outputs": [],
   "source": [
    "featureset = featureDataSet(clean_dir, 2)\n",
    "a = featureset.__getitem__()"
   ]
  },
  {
   "cell_type": "code",
   "execution_count": 60,
   "metadata": {
    "collapsed": false
   },
   "outputs": [
    {
     "data": {
      "text/plain": [
       "torch.Size([10, 256, 128])"
      ]
     },
     "execution_count": 60,
     "metadata": {},
     "output_type": "execute_result"
    }
   ],
   "source": [
    "a.shape"
   ]
  },
  {
   "cell_type": "code",
<<<<<<< HEAD
   "execution_count": 5,
   "metadata": {},
   "outputs": [],
   "source": [
    "server = False\n",
    "\n",
    "root_dir = '/home/tk/Documents/'\n",
    "if server == True:\n",
    "    root_dir = '/home/guotingyou/cocktail_phase2/'\n",
    "\n",
    "\n",
    "clean_dir = root_dir + 'mix_pool/feature/' \n",
    "mix_dir = root_dir + 'mix_pool/mix_spec/' # 10-people mix\n",
    "target_spec_dir = root_dir + 'mix_pool/target_spec/' \n",
    "target_label_dir = root_dir + 'mix_pool/target_label/'\n",
    "\n",
    "cleanfolder = os.listdir(clean_dir)\n",
    "cleanfolder.sort()\n",
    "\n",
    "mixfolder = os.listdir(mix_dir)\n",
    "mixfolder.sort()\n"
   ]
  },
  {
   "cell_type": "code",
   "execution_count": 20,
   "metadata": {},
   "outputs": [],
   "source": [
    "class mixDataSet(Dataset):\n",
    "    \n",
    "    def __init__(self, mix_dir, target_spec_dir, target_label_dir):           \n",
    "        \n",
    "        mix_list = []\n",
    "        target_spec_list = []\n",
    "        target_label_list = []\n",
    "\n",
    "        for na in os.listdir(mix_dir):\n",
    "            with open(mix_dir + '{}'.format(na)) as f:\n",
    "                mix_list.append(torch.Tensor(json.load(f)))\n",
    "\n",
    "        for na in os.listdir(target_spec_dir):\n",
    "            with open(target_spec_dir + '{}'.format(na)) as f:\n",
    "                target_spec_list.append(torch.Tensor(json.load(f)))\n",
    "\n",
    "        for na in os.listdir(target_label_dir):\n",
    "            with open(target_label_dir + '{}'.format(na)) as f:\n",
    "                target_label_list.append(torch.Tensor(json.load(f)))\n",
    "\n",
    "        \n",
    "        mixblock = torch.cat(mix_list, 0)\n",
    "        targetblock = torch.cat(target_spec_list, 0)\n",
    "        targetlabel = torch.cat(target_label_list, 0)\n",
    "\n",
    "        \n",
    "\n",
    "        self.mix_spec = mixblock\n",
    "        self.target_spec = targetblock\n",
    "        self.target_label = targetlabel\n",
    "\n",
    "                \n",
    "        \n",
    "    def __len__(self):\n",
    "        return self.mix_spec.shape[0]\n",
    "\n",
    "\n",
    "    def __getitem__(self, index): \n",
    "\n",
    "        mix_spec = self.mix_spec[index]\n",
    "        target_spec = self.target_spec[index]\n",
    "        target_label = self.target_label[index]\n",
    "        return mix_spec, target_spec, target_label\n",
    "\n",
    "\n",
    "class featureDataSet(Dataset):\n",
    "    \n",
    "    def __init__(self, clean_dir, label):\n",
    "        \n",
    "        full_audio = ['birdstudybook', 'captaincook', 'cloudstudies_02_clayden_12', \n",
    "              'constructivebeekeeping',\n",
    "              'discoursesbiologicalgeological_16_huxley_12', \n",
    "              'natureguide', 'pioneersoftheoldsouth', \n",
    "              'pioneerworkalps_02_harper_12', \n",
    "              'romancecommonplace', 'travelstoriesretold']\n",
    "\n",
    "        feature_list = []\n",
    "\n",
    "        with open(clean_dir + full_audio[label] + '/0.json') as f:\n",
    "            feature_list.append(torch.Tensor(json.load(f)))      \n",
    "        \n",
    "        featureblock = torch.cat(feature_list, 0)\n",
    "        \n",
    "        self.featurespec = featureblock\n",
    "        self.label = label\n",
    "                \n",
    "        \n",
    "    def __len__(self):\n",
    "        return self.featurespec.shape[0]\n",
    "\n",
    "                \n",
    "    def __getitem__(self): \n",
    "        \n",
    "        index = int(self.label)\n",
    "        featurespec = self.featurespec[index]\n",
    "        return featurespec, index"
   ]
  },
  {
   "cell_type": "code",
   "execution_count": 17,
   "metadata": {},
   "outputs": [],
   "source": [
    "bs = 1"
   ]
  },
  {
   "cell_type": "code",
   "execution_count": 21,
   "metadata": {},
   "outputs": [],
   "source": [
    "target_label = 2\n",
    "featureset = featureDataSet(clean_dir, int(target_label))\n",
    "\n",
    "a, b = featureset.__getitem__()"
   ]
  },
  {
   "cell_type": "code",
   "execution_count": 22,
   "metadata": {},
   "outputs": [
    {
     "name": "stdout",
     "output_type": "stream",
     "text": [
      "torch.Size([256, 128]) 2\n"
     ]
    }
   ],
   "source": [
    "print(a.shape, b)"
   ]
  },
  {
   "cell_type": "code",
   "execution_count": null,
   "metadata": {},
   "outputs": [],
   "source": []
  },
  {
   "cell_type": "code",
   "execution_count": 18,
   "metadata": {},
   "outputs": [],
   "source": [
    "mixset = mixDataSet( mix_dir, target_spec_dir, target_label_dir)\n",
    "\n",
    "mixloader = torch.utils.data.DataLoader(dataset = mixset,\n",
    "    batch_size = bs,\n",
    "    shuffle = False)"
=======
   "execution_count": 2,
   "metadata": {
    "collapsed": true
   },
   "outputs": [],
   "source": [
    "import numpy as np\n",
    "import cv2 "
>>>>>>> 6dde27436fbc632e3072759b80df56842a4a6a33
   ]
  },
  {
   "cell_type": "code",
<<<<<<< HEAD
   "execution_count": 23,
   "metadata": {},
   "outputs": [
    {
     "name": "stdout",
     "output_type": "stream",
     "text": [
      "0 torch.Size([1, 256, 128]) torch.Size([1, 256, 128]) torch.Size([256, 128]) 4\n",
      "1 torch.Size([1, 256, 128]) torch.Size([1, 256, 128]) torch.Size([256, 128]) 2\n",
      "2 torch.Size([1, 256, 128]) torch.Size([1, 256, 128]) torch.Size([256, 128]) 8\n",
      "3 torch.Size([1, 256, 128]) torch.Size([1, 256, 128]) torch.Size([256, 128]) 7\n",
      "4 torch.Size([1, 256, 128]) torch.Size([1, 256, 128]) torch.Size([256, 128]) 4\n",
      "5 torch.Size([1, 256, 128]) torch.Size([1, 256, 128]) torch.Size([256, 128]) 6\n",
      "6 torch.Size([1, 256, 128]) torch.Size([1, 256, 128]) torch.Size([256, 128]) 5\n",
      "7 torch.Size([1, 256, 128]) torch.Size([1, 256, 128]) torch.Size([256, 128]) 0\n",
      "8 torch.Size([1, 256, 128]) torch.Size([1, 256, 128]) torch.Size([256, 128]) 6\n",
      "9 torch.Size([1, 256, 128]) torch.Size([1, 256, 128]) torch.Size([256, 128]) 0\n",
      "10 torch.Size([1, 256, 128]) torch.Size([1, 256, 128]) torch.Size([256, 128]) 9\n",
      "11 torch.Size([1, 256, 128]) torch.Size([1, 256, 128]) torch.Size([256, 128]) 0\n",
      "12 torch.Size([1, 256, 128]) torch.Size([1, 256, 128]) torch.Size([256, 128]) 2\n",
      "13 torch.Size([1, 256, 128]) torch.Size([1, 256, 128]) torch.Size([256, 128]) 6\n",
      "14 torch.Size([1, 256, 128]) torch.Size([1, 256, 128]) torch.Size([256, 128]) 3\n",
      "15 torch.Size([1, 256, 128]) torch.Size([1, 256, 128]) torch.Size([256, 128]) 1\n",
      "16 torch.Size([1, 256, 128]) torch.Size([1, 256, 128]) torch.Size([256, 128]) 6\n",
      "17 torch.Size([1, 256, 128]) torch.Size([1, 256, 128]) torch.Size([256, 128]) 1\n",
      "18 torch.Size([1, 256, 128]) torch.Size([1, 256, 128]) torch.Size([256, 128]) 0\n",
      "19 torch.Size([1, 256, 128]) torch.Size([1, 256, 128]) torch.Size([256, 128]) 1\n",
      "20 torch.Size([1, 256, 128]) torch.Size([1, 256, 128]) torch.Size([256, 128]) 7\n",
      "21 torch.Size([1, 256, 128]) torch.Size([1, 256, 128]) torch.Size([256, 128]) 5\n",
      "22 torch.Size([1, 256, 128]) torch.Size([1, 256, 128]) torch.Size([256, 128]) 9\n",
      "23 torch.Size([1, 256, 128]) torch.Size([1, 256, 128]) torch.Size([256, 128]) 1\n",
      "24 torch.Size([1, 256, 128]) torch.Size([1, 256, 128]) torch.Size([256, 128]) 6\n",
      "25 torch.Size([1, 256, 128]) torch.Size([1, 256, 128]) torch.Size([256, 128]) 4\n",
      "26 torch.Size([1, 256, 128]) torch.Size([1, 256, 128]) torch.Size([256, 128]) 0\n",
      "27 torch.Size([1, 256, 128]) torch.Size([1, 256, 128]) torch.Size([256, 128]) 0\n",
      "28 torch.Size([1, 256, 128]) torch.Size([1, 256, 128]) torch.Size([256, 128]) 5\n",
      "29 torch.Size([1, 256, 128]) torch.Size([1, 256, 128]) torch.Size([256, 128]) 4\n",
      "30 torch.Size([1, 256, 128]) torch.Size([1, 256, 128]) torch.Size([256, 128]) 6\n",
      "31 torch.Size([1, 256, 128]) torch.Size([1, 256, 128]) torch.Size([256, 128]) 5\n",
      "32 torch.Size([1, 256, 128]) torch.Size([1, 256, 128]) torch.Size([256, 128]) 8\n",
      "33 torch.Size([1, 256, 128]) torch.Size([1, 256, 128]) torch.Size([256, 128]) 8\n",
      "34 torch.Size([1, 256, 128]) torch.Size([1, 256, 128]) torch.Size([256, 128]) 4\n",
      "35 torch.Size([1, 256, 128]) torch.Size([1, 256, 128]) torch.Size([256, 128]) 5\n",
      "36 torch.Size([1, 256, 128]) torch.Size([1, 256, 128]) torch.Size([256, 128]) 3\n",
      "37 torch.Size([1, 256, 128]) torch.Size([1, 256, 128]) torch.Size([256, 128]) 0\n",
      "38 torch.Size([1, 256, 128]) torch.Size([1, 256, 128]) torch.Size([256, 128]) 4\n",
      "39 torch.Size([1, 256, 128]) torch.Size([1, 256, 128]) torch.Size([256, 128]) 3\n",
      "40 torch.Size([1, 256, 128]) torch.Size([1, 256, 128]) torch.Size([256, 128]) 3\n",
      "41 torch.Size([1, 256, 128]) torch.Size([1, 256, 128]) torch.Size([256, 128]) 1\n",
      "42 torch.Size([1, 256, 128]) torch.Size([1, 256, 128]) torch.Size([256, 128]) 7\n",
      "43 torch.Size([1, 256, 128]) torch.Size([1, 256, 128]) torch.Size([256, 128]) 7\n",
      "44 torch.Size([1, 256, 128]) torch.Size([1, 256, 128]) torch.Size([256, 128]) 3\n",
      "45 torch.Size([1, 256, 128]) torch.Size([1, 256, 128]) torch.Size([256, 128]) 3\n",
      "46 torch.Size([1, 256, 128]) torch.Size([1, 256, 128]) torch.Size([256, 128]) 6\n",
      "47 torch.Size([1, 256, 128]) torch.Size([1, 256, 128]) torch.Size([256, 128]) 8\n",
      "48 torch.Size([1, 256, 128]) torch.Size([1, 256, 128]) torch.Size([256, 128]) 4\n",
      "49 torch.Size([1, 256, 128]) torch.Size([1, 256, 128]) torch.Size([256, 128]) 7\n",
      "50 torch.Size([1, 256, 128]) torch.Size([1, 256, 128]) torch.Size([256, 128]) 6\n",
      "51 torch.Size([1, 256, 128]) torch.Size([1, 256, 128]) torch.Size([256, 128]) 2\n",
      "52 torch.Size([1, 256, 128]) torch.Size([1, 256, 128]) torch.Size([256, 128]) 6\n",
      "53 torch.Size([1, 256, 128]) torch.Size([1, 256, 128]) torch.Size([256, 128]) 0\n",
      "54 torch.Size([1, 256, 128]) torch.Size([1, 256, 128]) torch.Size([256, 128]) 0\n",
      "55 torch.Size([1, 256, 128]) torch.Size([1, 256, 128]) torch.Size([256, 128]) 6\n",
      "56 torch.Size([1, 256, 128]) torch.Size([1, 256, 128]) torch.Size([256, 128]) 2\n",
      "57 torch.Size([1, 256, 128]) torch.Size([1, 256, 128]) torch.Size([256, 128]) 6\n",
      "58 torch.Size([1, 256, 128]) torch.Size([1, 256, 128]) torch.Size([256, 128]) 0\n",
      "59 torch.Size([1, 256, 128]) torch.Size([1, 256, 128]) torch.Size([256, 128]) 3\n",
      "60 torch.Size([1, 256, 128]) torch.Size([1, 256, 128]) torch.Size([256, 128]) 1\n",
      "61 torch.Size([1, 256, 128]) torch.Size([1, 256, 128]) torch.Size([256, 128]) 3\n",
      "62 torch.Size([1, 256, 128]) torch.Size([1, 256, 128]) torch.Size([256, 128]) 2\n",
      "63 torch.Size([1, 256, 128]) torch.Size([1, 256, 128]) torch.Size([256, 128]) 5\n",
      "64 torch.Size([1, 256, 128]) torch.Size([1, 256, 128]) torch.Size([256, 128]) 6\n",
      "65 torch.Size([1, 256, 128]) torch.Size([1, 256, 128]) torch.Size([256, 128]) 1\n",
      "66 torch.Size([1, 256, 128]) torch.Size([1, 256, 128]) torch.Size([256, 128]) 9\n",
      "67 torch.Size([1, 256, 128]) torch.Size([1, 256, 128]) torch.Size([256, 128]) 6\n",
      "68 torch.Size([1, 256, 128]) torch.Size([1, 256, 128]) torch.Size([256, 128]) 6\n",
      "69 torch.Size([1, 256, 128]) torch.Size([1, 256, 128]) torch.Size([256, 128]) 4\n",
      "70 torch.Size([1, 256, 128]) torch.Size([1, 256, 128]) torch.Size([256, 128]) 6\n",
      "71 torch.Size([1, 256, 128]) torch.Size([1, 256, 128]) torch.Size([256, 128]) 8\n",
      "72 torch.Size([1, 256, 128]) torch.Size([1, 256, 128]) torch.Size([256, 128]) 5\n",
      "73 torch.Size([1, 256, 128]) torch.Size([1, 256, 128]) torch.Size([256, 128]) 2\n",
      "74 torch.Size([1, 256, 128]) torch.Size([1, 256, 128]) torch.Size([256, 128]) 8\n",
      "75 torch.Size([1, 256, 128]) torch.Size([1, 256, 128]) torch.Size([256, 128]) 1\n",
      "76 torch.Size([1, 256, 128]) torch.Size([1, 256, 128]) torch.Size([256, 128]) 2\n",
      "77 torch.Size([1, 256, 128]) torch.Size([1, 256, 128]) torch.Size([256, 128]) 9\n",
      "78 torch.Size([1, 256, 128]) torch.Size([1, 256, 128]) torch.Size([256, 128]) 4\n",
      "79 torch.Size([1, 256, 128]) torch.Size([1, 256, 128]) torch.Size([256, 128]) 2\n",
      "80 torch.Size([1, 256, 128]) torch.Size([1, 256, 128]) torch.Size([256, 128]) 7\n",
      "81 torch.Size([1, 256, 128]) torch.Size([1, 256, 128]) torch.Size([256, 128]) 0\n",
      "82 torch.Size([1, 256, 128]) torch.Size([1, 256, 128]) torch.Size([256, 128]) 1\n",
      "83 torch.Size([1, 256, 128]) torch.Size([1, 256, 128]) torch.Size([256, 128]) 3\n",
      "84 torch.Size([1, 256, 128]) torch.Size([1, 256, 128]) torch.Size([256, 128]) 9\n",
      "85 torch.Size([1, 256, 128]) torch.Size([1, 256, 128]) torch.Size([256, 128]) 4\n",
      "86 torch.Size([1, 256, 128]) torch.Size([1, 256, 128]) torch.Size([256, 128]) 9\n",
      "87 torch.Size([1, 256, 128]) torch.Size([1, 256, 128]) torch.Size([256, 128]) 6\n",
      "88 torch.Size([1, 256, 128]) torch.Size([1, 256, 128]) torch.Size([256, 128]) 7\n",
      "89 torch.Size([1, 256, 128]) torch.Size([1, 256, 128]) torch.Size([256, 128]) 5\n",
      "90 torch.Size([1, 256, 128]) torch.Size([1, 256, 128]) torch.Size([256, 128]) 1\n",
      "91 torch.Size([1, 256, 128]) torch.Size([1, 256, 128]) torch.Size([256, 128]) 6\n",
      "92 torch.Size([1, 256, 128]) torch.Size([1, 256, 128]) torch.Size([256, 128]) 8\n",
      "93 torch.Size([1, 256, 128]) torch.Size([1, 256, 128]) torch.Size([256, 128]) 6\n",
      "94 torch.Size([1, 256, 128]) torch.Size([1, 256, 128]) torch.Size([256, 128]) 1\n",
      "95 torch.Size([1, 256, 128]) torch.Size([1, 256, 128]) torch.Size([256, 128]) 2\n",
      "96 torch.Size([1, 256, 128]) torch.Size([1, 256, 128]) torch.Size([256, 128]) 1\n",
      "97 torch.Size([1, 256, 128]) torch.Size([1, 256, 128]) torch.Size([256, 128]) 6\n",
      "98 torch.Size([1, 256, 128]) torch.Size([1, 256, 128]) torch.Size([256, 128]) 5\n",
      "99 torch.Size([1, 256, 128]) torch.Size([1, 256, 128]) torch.Size([256, 128]) 5\n",
      "100 torch.Size([1, 256, 128]) torch.Size([1, 256, 128]) torch.Size([256, 128]) 1\n",
      "101 torch.Size([1, 256, 128]) torch.Size([1, 256, 128]) torch.Size([256, 128]) 6\n",
      "102 torch.Size([1, 256, 128]) torch.Size([1, 256, 128]) torch.Size([256, 128]) 5\n",
      "103 torch.Size([1, 256, 128]) torch.Size([1, 256, 128]) torch.Size([256, 128]) 5\n"
     ]
    },
    {
     "name": "stdout",
     "output_type": "stream",
     "text": [
      "104 torch.Size([1, 256, 128]) torch.Size([1, 256, 128]) torch.Size([256, 128]) 6\n",
      "105 torch.Size([1, 256, 128]) torch.Size([1, 256, 128]) torch.Size([256, 128]) 3\n",
      "106 torch.Size([1, 256, 128]) torch.Size([1, 256, 128]) torch.Size([256, 128]) 7\n",
      "107 torch.Size([1, 256, 128]) torch.Size([1, 256, 128]) torch.Size([256, 128]) 7\n",
      "108 torch.Size([1, 256, 128]) torch.Size([1, 256, 128]) torch.Size([256, 128]) 7\n",
      "109 torch.Size([1, 256, 128]) torch.Size([1, 256, 128]) torch.Size([256, 128]) 0\n",
      "110 torch.Size([1, 256, 128]) torch.Size([1, 256, 128]) torch.Size([256, 128]) 4\n",
      "111 torch.Size([1, 256, 128]) torch.Size([1, 256, 128]) torch.Size([256, 128]) 4\n",
      "112 torch.Size([1, 256, 128]) torch.Size([1, 256, 128]) torch.Size([256, 128]) 4\n",
      "113 torch.Size([1, 256, 128]) torch.Size([1, 256, 128]) torch.Size([256, 128]) 0\n",
      "114 torch.Size([1, 256, 128]) torch.Size([1, 256, 128]) torch.Size([256, 128]) 6\n",
      "115 torch.Size([1, 256, 128]) torch.Size([1, 256, 128]) torch.Size([256, 128]) 9\n",
      "116 torch.Size([1, 256, 128]) torch.Size([1, 256, 128]) torch.Size([256, 128]) 1\n",
      "117 torch.Size([1, 256, 128]) torch.Size([1, 256, 128]) torch.Size([256, 128]) 1\n",
      "118 torch.Size([1, 256, 128]) torch.Size([1, 256, 128]) torch.Size([256, 128]) 8\n",
      "119 torch.Size([1, 256, 128]) torch.Size([1, 256, 128]) torch.Size([256, 128]) 6\n",
      "120 torch.Size([1, 256, 128]) torch.Size([1, 256, 128]) torch.Size([256, 128]) 4\n",
      "121 torch.Size([1, 256, 128]) torch.Size([1, 256, 128]) torch.Size([256, 128]) 3\n",
      "122 torch.Size([1, 256, 128]) torch.Size([1, 256, 128]) torch.Size([256, 128]) 6\n",
      "123 torch.Size([1, 256, 128]) torch.Size([1, 256, 128]) torch.Size([256, 128]) 9\n",
      "124 torch.Size([1, 256, 128]) torch.Size([1, 256, 128]) torch.Size([256, 128]) 6\n",
      "125 torch.Size([1, 256, 128]) torch.Size([1, 256, 128]) torch.Size([256, 128]) 5\n",
      "126 torch.Size([1, 256, 128]) torch.Size([1, 256, 128]) torch.Size([256, 128]) 4\n",
      "127 torch.Size([1, 256, 128]) torch.Size([1, 256, 128]) torch.Size([256, 128]) 7\n",
      "128 torch.Size([1, 256, 128]) torch.Size([1, 256, 128]) torch.Size([256, 128]) 3\n",
      "129 torch.Size([1, 256, 128]) torch.Size([1, 256, 128]) torch.Size([256, 128]) 9\n",
      "130 torch.Size([1, 256, 128]) torch.Size([1, 256, 128]) torch.Size([256, 128]) 2\n",
      "131 torch.Size([1, 256, 128]) torch.Size([1, 256, 128]) torch.Size([256, 128]) 9\n",
      "132 torch.Size([1, 256, 128]) torch.Size([1, 256, 128]) torch.Size([256, 128]) 8\n",
      "133 torch.Size([1, 256, 128]) torch.Size([1, 256, 128]) torch.Size([256, 128]) 3\n",
      "134 torch.Size([1, 256, 128]) torch.Size([1, 256, 128]) torch.Size([256, 128]) 5\n",
      "135 torch.Size([1, 256, 128]) torch.Size([1, 256, 128]) torch.Size([256, 128]) 5\n",
      "136 torch.Size([1, 256, 128]) torch.Size([1, 256, 128]) torch.Size([256, 128]) 7\n",
      "137 torch.Size([1, 256, 128]) torch.Size([1, 256, 128]) torch.Size([256, 128]) 9\n",
      "138 torch.Size([1, 256, 128]) torch.Size([1, 256, 128]) torch.Size([256, 128]) 7\n",
      "139 torch.Size([1, 256, 128]) torch.Size([1, 256, 128]) torch.Size([256, 128]) 1\n",
      "140 torch.Size([1, 256, 128]) torch.Size([1, 256, 128]) torch.Size([256, 128]) 8\n",
      "141 torch.Size([1, 256, 128]) torch.Size([1, 256, 128]) torch.Size([256, 128]) 1\n",
      "142 torch.Size([1, 256, 128]) torch.Size([1, 256, 128]) torch.Size([256, 128]) 1\n",
      "143 torch.Size([1, 256, 128]) torch.Size([1, 256, 128]) torch.Size([256, 128]) 4\n",
      "144 torch.Size([1, 256, 128]) torch.Size([1, 256, 128]) torch.Size([256, 128]) 8\n",
      "145 torch.Size([1, 256, 128]) torch.Size([1, 256, 128]) torch.Size([256, 128]) 2\n",
      "146 torch.Size([1, 256, 128]) torch.Size([1, 256, 128]) torch.Size([256, 128]) 8\n",
      "147 torch.Size([1, 256, 128]) torch.Size([1, 256, 128]) torch.Size([256, 128]) 0\n",
      "148 torch.Size([1, 256, 128]) torch.Size([1, 256, 128]) torch.Size([256, 128]) 0\n",
      "149 torch.Size([1, 256, 128]) torch.Size([1, 256, 128]) torch.Size([256, 128]) 8\n",
      "150 torch.Size([1, 256, 128]) torch.Size([1, 256, 128]) torch.Size([256, 128]) 6\n",
      "151 torch.Size([1, 256, 128]) torch.Size([1, 256, 128]) torch.Size([256, 128]) 9\n",
      "152 torch.Size([1, 256, 128]) torch.Size([1, 256, 128]) torch.Size([256, 128]) 5\n",
      "153 torch.Size([1, 256, 128]) torch.Size([1, 256, 128]) torch.Size([256, 128]) 9\n",
      "154 torch.Size([1, 256, 128]) torch.Size([1, 256, 128]) torch.Size([256, 128]) 4\n",
      "155 torch.Size([1, 256, 128]) torch.Size([1, 256, 128]) torch.Size([256, 128]) 1\n",
      "156 torch.Size([1, 256, 128]) torch.Size([1, 256, 128]) torch.Size([256, 128]) 1\n",
      "157 torch.Size([1, 256, 128]) torch.Size([1, 256, 128]) torch.Size([256, 128]) 8\n",
      "158 torch.Size([1, 256, 128]) torch.Size([1, 256, 128]) torch.Size([256, 128]) 5\n",
      "159 torch.Size([1, 256, 128]) torch.Size([1, 256, 128]) torch.Size([256, 128]) 3\n",
      "160 torch.Size([1, 256, 128]) torch.Size([1, 256, 128]) torch.Size([256, 128]) 2\n",
      "161 torch.Size([1, 256, 128]) torch.Size([1, 256, 128]) torch.Size([256, 128]) 3\n",
      "162 torch.Size([1, 256, 128]) torch.Size([1, 256, 128]) torch.Size([256, 128]) 2\n",
      "163 torch.Size([1, 256, 128]) torch.Size([1, 256, 128]) torch.Size([256, 128]) 5\n",
      "164 torch.Size([1, 256, 128]) torch.Size([1, 256, 128]) torch.Size([256, 128]) 3\n",
      "165 torch.Size([1, 256, 128]) torch.Size([1, 256, 128]) torch.Size([256, 128]) 5\n",
      "166 torch.Size([1, 256, 128]) torch.Size([1, 256, 128]) torch.Size([256, 128]) 8\n",
      "167 torch.Size([1, 256, 128]) torch.Size([1, 256, 128]) torch.Size([256, 128]) 0\n",
      "168 torch.Size([1, 256, 128]) torch.Size([1, 256, 128]) torch.Size([256, 128]) 5\n",
      "169 torch.Size([1, 256, 128]) torch.Size([1, 256, 128]) torch.Size([256, 128]) 3\n",
      "170 torch.Size([1, 256, 128]) torch.Size([1, 256, 128]) torch.Size([256, 128]) 7\n",
      "171 torch.Size([1, 256, 128]) torch.Size([1, 256, 128]) torch.Size([256, 128]) 7\n",
      "172 torch.Size([1, 256, 128]) torch.Size([1, 256, 128]) torch.Size([256, 128]) 6\n",
      "173 torch.Size([1, 256, 128]) torch.Size([1, 256, 128]) torch.Size([256, 128]) 6\n",
      "174 torch.Size([1, 256, 128]) torch.Size([1, 256, 128]) torch.Size([256, 128]) 4\n",
      "175 torch.Size([1, 256, 128]) torch.Size([1, 256, 128]) torch.Size([256, 128]) 0\n",
      "176 torch.Size([1, 256, 128]) torch.Size([1, 256, 128]) torch.Size([256, 128]) 3\n",
      "177 torch.Size([1, 256, 128]) torch.Size([1, 256, 128]) torch.Size([256, 128]) 4\n",
      "178 torch.Size([1, 256, 128]) torch.Size([1, 256, 128]) torch.Size([256, 128]) 4\n",
      "179 torch.Size([1, 256, 128]) torch.Size([1, 256, 128]) torch.Size([256, 128]) 2\n",
      "180 torch.Size([1, 256, 128]) torch.Size([1, 256, 128]) torch.Size([256, 128]) 5\n",
      "181 torch.Size([1, 256, 128]) torch.Size([1, 256, 128]) torch.Size([256, 128]) 3\n",
      "182 torch.Size([1, 256, 128]) torch.Size([1, 256, 128]) torch.Size([256, 128]) 7\n",
      "183 torch.Size([1, 256, 128]) torch.Size([1, 256, 128]) torch.Size([256, 128]) 3\n",
      "184 torch.Size([1, 256, 128]) torch.Size([1, 256, 128]) torch.Size([256, 128]) 9\n",
      "185 torch.Size([1, 256, 128]) torch.Size([1, 256, 128]) torch.Size([256, 128]) 2\n",
      "186 torch.Size([1, 256, 128]) torch.Size([1, 256, 128]) torch.Size([256, 128]) 6\n",
      "187 torch.Size([1, 256, 128]) torch.Size([1, 256, 128]) torch.Size([256, 128]) 0\n",
      "188 torch.Size([1, 256, 128]) torch.Size([1, 256, 128]) torch.Size([256, 128]) 0\n",
      "189 torch.Size([1, 256, 128]) torch.Size([1, 256, 128]) torch.Size([256, 128]) 9\n",
      "190 torch.Size([1, 256, 128]) torch.Size([1, 256, 128]) torch.Size([256, 128]) 7\n",
      "191 torch.Size([1, 256, 128]) torch.Size([1, 256, 128]) torch.Size([256, 128]) 5\n",
      "192 torch.Size([1, 256, 128]) torch.Size([1, 256, 128]) torch.Size([256, 128]) 3\n",
      "193 torch.Size([1, 256, 128]) torch.Size([1, 256, 128]) torch.Size([256, 128]) 2\n",
      "194 torch.Size([1, 256, 128]) torch.Size([1, 256, 128]) torch.Size([256, 128]) 6\n",
      "195 torch.Size([1, 256, 128]) torch.Size([1, 256, 128]) torch.Size([256, 128]) 7\n",
      "196 torch.Size([1, 256, 128]) torch.Size([1, 256, 128]) torch.Size([256, 128]) 0\n",
      "197 torch.Size([1, 256, 128]) torch.Size([1, 256, 128]) torch.Size([256, 128]) 1\n",
      "198 torch.Size([1, 256, 128]) torch.Size([1, 256, 128]) torch.Size([256, 128]) 6\n",
      "199 torch.Size([1, 256, 128]) torch.Size([1, 256, 128]) torch.Size([256, 128]) 6\n",
      "200 torch.Size([1, 256, 128]) torch.Size([1, 256, 128]) torch.Size([256, 128]) 9\n",
      "201 torch.Size([1, 256, 128]) torch.Size([1, 256, 128]) torch.Size([256, 128]) 9\n",
      "202 torch.Size([1, 256, 128]) torch.Size([1, 256, 128]) torch.Size([256, 128]) 0\n",
      "203 torch.Size([1, 256, 128]) torch.Size([1, 256, 128]) torch.Size([256, 128]) 9\n",
      "204 torch.Size([1, 256, 128]) torch.Size([1, 256, 128]) torch.Size([256, 128]) 4\n",
      "205 torch.Size([1, 256, 128]) torch.Size([1, 256, 128]) torch.Size([256, 128]) 7\n",
      "206 torch.Size([1, 256, 128]) torch.Size([1, 256, 128]) torch.Size([256, 128]) 0\n"
     ]
    },
    {
     "name": "stdout",
     "output_type": "stream",
     "text": [
      "207 torch.Size([1, 256, 128]) torch.Size([1, 256, 128]) torch.Size([256, 128]) 5\n",
      "208 torch.Size([1, 256, 128]) torch.Size([1, 256, 128]) torch.Size([256, 128]) 1\n",
      "209 torch.Size([1, 256, 128]) torch.Size([1, 256, 128]) torch.Size([256, 128]) 7\n"
     ]
    },
    {
     "ename": "KeyboardInterrupt",
     "evalue": "",
     "output_type": "error",
     "traceback": [
      "\u001b[0;31m---------------------------------------------------------------------------\u001b[0m",
      "\u001b[0;31mKeyboardInterrupt\u001b[0m                         Traceback (most recent call last)",
      "\u001b[0;32m<ipython-input-23-67efc2e8b2e2>\u001b[0m in \u001b[0;36m<module>\u001b[0;34m\u001b[0m\n\u001b[1;32m      3\u001b[0m     \u001b[0minputs\u001b[0m \u001b[0;34m=\u001b[0m \u001b[0mVariable\u001b[0m\u001b[0;34m(\u001b[0m\u001b[0mmix_spec\u001b[0m\u001b[0;34m)\u001b[0m\u001b[0;34m\u001b[0m\u001b[0;34m\u001b[0m\u001b[0m\n\u001b[1;32m      4\u001b[0m     \u001b[0mtargets\u001b[0m \u001b[0;34m=\u001b[0m \u001b[0mtarget_spec\u001b[0m\u001b[0;34m\u001b[0m\u001b[0;34m\u001b[0m\u001b[0m\n\u001b[0;32m----> 5\u001b[0;31m     \u001b[0mfeatureset\u001b[0m \u001b[0;34m=\u001b[0m \u001b[0mfeatureDataSet\u001b[0m\u001b[0;34m(\u001b[0m\u001b[0mclean_dir\u001b[0m\u001b[0;34m,\u001b[0m \u001b[0mint\u001b[0m\u001b[0;34m(\u001b[0m\u001b[0mtarget_label\u001b[0m\u001b[0;34m)\u001b[0m\u001b[0;34m)\u001b[0m\u001b[0;34m\u001b[0m\u001b[0;34m\u001b[0m\u001b[0m\n\u001b[0m\u001b[1;32m      6\u001b[0m     \u001b[0mfeat_data\u001b[0m\u001b[0;34m,\u001b[0m \u001b[0mindex\u001b[0m \u001b[0;34m=\u001b[0m \u001b[0mfeatureset\u001b[0m\u001b[0;34m.\u001b[0m\u001b[0m__getitem__\u001b[0m\u001b[0;34m(\u001b[0m\u001b[0;34m)\u001b[0m\u001b[0;34m\u001b[0m\u001b[0;34m\u001b[0m\u001b[0m\n\u001b[1;32m      7\u001b[0m     \u001b[0mprint\u001b[0m \u001b[0;34m(\u001b[0m\u001b[0mi\u001b[0m\u001b[0;34m,\u001b[0m \u001b[0minputs\u001b[0m\u001b[0;34m.\u001b[0m\u001b[0mshape\u001b[0m\u001b[0;34m,\u001b[0m \u001b[0mtargets\u001b[0m\u001b[0;34m.\u001b[0m\u001b[0mshape\u001b[0m\u001b[0;34m,\u001b[0m \u001b[0mfeat_data\u001b[0m\u001b[0;34m.\u001b[0m\u001b[0mshape\u001b[0m\u001b[0;34m,\u001b[0m \u001b[0mindex\u001b[0m\u001b[0;34m)\u001b[0m\u001b[0;34m\u001b[0m\u001b[0;34m\u001b[0m\u001b[0m\n",
      "\u001b[0;32m<ipython-input-20-b31724e67fbb>\u001b[0m in \u001b[0;36m__init__\u001b[0;34m(self, clean_dir, label)\u001b[0m\n\u001b[1;32m     58\u001b[0m \u001b[0;34m\u001b[0m\u001b[0m\n\u001b[1;32m     59\u001b[0m         \u001b[0;32mwith\u001b[0m \u001b[0mopen\u001b[0m\u001b[0;34m(\u001b[0m\u001b[0mclean_dir\u001b[0m \u001b[0;34m+\u001b[0m \u001b[0mfull_audio\u001b[0m\u001b[0;34m[\u001b[0m\u001b[0mlabel\u001b[0m\u001b[0;34m]\u001b[0m \u001b[0;34m+\u001b[0m \u001b[0;34m'/0.json'\u001b[0m\u001b[0;34m)\u001b[0m \u001b[0;32mas\u001b[0m \u001b[0mf\u001b[0m\u001b[0;34m:\u001b[0m\u001b[0;34m\u001b[0m\u001b[0;34m\u001b[0m\u001b[0m\n\u001b[0;32m---> 60\u001b[0;31m             \u001b[0mfeature_list\u001b[0m\u001b[0;34m.\u001b[0m\u001b[0mappend\u001b[0m\u001b[0;34m(\u001b[0m\u001b[0mtorch\u001b[0m\u001b[0;34m.\u001b[0m\u001b[0mTensor\u001b[0m\u001b[0;34m(\u001b[0m\u001b[0mjson\u001b[0m\u001b[0;34m.\u001b[0m\u001b[0mload\u001b[0m\u001b[0;34m(\u001b[0m\u001b[0mf\u001b[0m\u001b[0;34m)\u001b[0m\u001b[0;34m)\u001b[0m\u001b[0;34m)\u001b[0m\u001b[0;34m\u001b[0m\u001b[0;34m\u001b[0m\u001b[0m\n\u001b[0m\u001b[1;32m     61\u001b[0m \u001b[0;34m\u001b[0m\u001b[0m\n\u001b[1;32m     62\u001b[0m         \u001b[0mfeatureblock\u001b[0m \u001b[0;34m=\u001b[0m \u001b[0mtorch\u001b[0m\u001b[0;34m.\u001b[0m\u001b[0mcat\u001b[0m\u001b[0;34m(\u001b[0m\u001b[0mfeature_list\u001b[0m\u001b[0;34m,\u001b[0m \u001b[0;36m0\u001b[0m\u001b[0;34m)\u001b[0m\u001b[0;34m\u001b[0m\u001b[0;34m\u001b[0m\u001b[0m\n",
      "\u001b[0;32m~/anaconda3/lib/python3.6/json/__init__.py\u001b[0m in \u001b[0;36mload\u001b[0;34m(fp, cls, object_hook, parse_float, parse_int, parse_constant, object_pairs_hook, **kw)\u001b[0m\n\u001b[1;32m    297\u001b[0m         \u001b[0mcls\u001b[0m\u001b[0;34m=\u001b[0m\u001b[0mcls\u001b[0m\u001b[0;34m,\u001b[0m \u001b[0mobject_hook\u001b[0m\u001b[0;34m=\u001b[0m\u001b[0mobject_hook\u001b[0m\u001b[0;34m,\u001b[0m\u001b[0;34m\u001b[0m\u001b[0;34m\u001b[0m\u001b[0m\n\u001b[1;32m    298\u001b[0m         \u001b[0mparse_float\u001b[0m\u001b[0;34m=\u001b[0m\u001b[0mparse_float\u001b[0m\u001b[0;34m,\u001b[0m \u001b[0mparse_int\u001b[0m\u001b[0;34m=\u001b[0m\u001b[0mparse_int\u001b[0m\u001b[0;34m,\u001b[0m\u001b[0;34m\u001b[0m\u001b[0;34m\u001b[0m\u001b[0m\n\u001b[0;32m--> 299\u001b[0;31m         parse_constant=parse_constant, object_pairs_hook=object_pairs_hook, **kw)\n\u001b[0m\u001b[1;32m    300\u001b[0m \u001b[0;34m\u001b[0m\u001b[0m\n\u001b[1;32m    301\u001b[0m \u001b[0;34m\u001b[0m\u001b[0m\n",
      "\u001b[0;32m~/anaconda3/lib/python3.6/json/__init__.py\u001b[0m in \u001b[0;36mloads\u001b[0;34m(s, encoding, cls, object_hook, parse_float, parse_int, parse_constant, object_pairs_hook, **kw)\u001b[0m\n\u001b[1;32m    352\u001b[0m             \u001b[0mparse_int\u001b[0m \u001b[0;32mis\u001b[0m \u001b[0;32mNone\u001b[0m \u001b[0;32mand\u001b[0m \u001b[0mparse_float\u001b[0m \u001b[0;32mis\u001b[0m \u001b[0;32mNone\u001b[0m \u001b[0;32mand\u001b[0m\u001b[0;34m\u001b[0m\u001b[0;34m\u001b[0m\u001b[0m\n\u001b[1;32m    353\u001b[0m             parse_constant is None and object_pairs_hook is None and not kw):\n\u001b[0;32m--> 354\u001b[0;31m         \u001b[0;32mreturn\u001b[0m \u001b[0m_default_decoder\u001b[0m\u001b[0;34m.\u001b[0m\u001b[0mdecode\u001b[0m\u001b[0;34m(\u001b[0m\u001b[0ms\u001b[0m\u001b[0;34m)\u001b[0m\u001b[0;34m\u001b[0m\u001b[0;34m\u001b[0m\u001b[0m\n\u001b[0m\u001b[1;32m    355\u001b[0m     \u001b[0;32mif\u001b[0m \u001b[0mcls\u001b[0m \u001b[0;32mis\u001b[0m \u001b[0;32mNone\u001b[0m\u001b[0;34m:\u001b[0m\u001b[0;34m\u001b[0m\u001b[0;34m\u001b[0m\u001b[0m\n\u001b[1;32m    356\u001b[0m         \u001b[0mcls\u001b[0m \u001b[0;34m=\u001b[0m \u001b[0mJSONDecoder\u001b[0m\u001b[0;34m\u001b[0m\u001b[0;34m\u001b[0m\u001b[0m\n",
      "\u001b[0;32m~/anaconda3/lib/python3.6/json/decoder.py\u001b[0m in \u001b[0;36mdecode\u001b[0;34m(self, s, _w)\u001b[0m\n\u001b[1;32m    337\u001b[0m \u001b[0;34m\u001b[0m\u001b[0m\n\u001b[1;32m    338\u001b[0m         \"\"\"\n\u001b[0;32m--> 339\u001b[0;31m         \u001b[0mobj\u001b[0m\u001b[0;34m,\u001b[0m \u001b[0mend\u001b[0m \u001b[0;34m=\u001b[0m \u001b[0mself\u001b[0m\u001b[0;34m.\u001b[0m\u001b[0mraw_decode\u001b[0m\u001b[0;34m(\u001b[0m\u001b[0ms\u001b[0m\u001b[0;34m,\u001b[0m \u001b[0midx\u001b[0m\u001b[0;34m=\u001b[0m\u001b[0m_w\u001b[0m\u001b[0;34m(\u001b[0m\u001b[0ms\u001b[0m\u001b[0;34m,\u001b[0m \u001b[0;36m0\u001b[0m\u001b[0;34m)\u001b[0m\u001b[0;34m.\u001b[0m\u001b[0mend\u001b[0m\u001b[0;34m(\u001b[0m\u001b[0;34m)\u001b[0m\u001b[0;34m)\u001b[0m\u001b[0;34m\u001b[0m\u001b[0;34m\u001b[0m\u001b[0m\n\u001b[0m\u001b[1;32m    340\u001b[0m         \u001b[0mend\u001b[0m \u001b[0;34m=\u001b[0m \u001b[0m_w\u001b[0m\u001b[0;34m(\u001b[0m\u001b[0ms\u001b[0m\u001b[0;34m,\u001b[0m \u001b[0mend\u001b[0m\u001b[0;34m)\u001b[0m\u001b[0;34m.\u001b[0m\u001b[0mend\u001b[0m\u001b[0;34m(\u001b[0m\u001b[0;34m)\u001b[0m\u001b[0;34m\u001b[0m\u001b[0;34m\u001b[0m\u001b[0m\n\u001b[1;32m    341\u001b[0m         \u001b[0;32mif\u001b[0m \u001b[0mend\u001b[0m \u001b[0;34m!=\u001b[0m \u001b[0mlen\u001b[0m\u001b[0;34m(\u001b[0m\u001b[0ms\u001b[0m\u001b[0;34m)\u001b[0m\u001b[0;34m:\u001b[0m\u001b[0;34m\u001b[0m\u001b[0;34m\u001b[0m\u001b[0m\n",
      "\u001b[0;32m~/anaconda3/lib/python3.6/json/decoder.py\u001b[0m in \u001b[0;36mraw_decode\u001b[0;34m(self, s, idx)\u001b[0m\n\u001b[1;32m    353\u001b[0m         \"\"\"\n\u001b[1;32m    354\u001b[0m         \u001b[0;32mtry\u001b[0m\u001b[0;34m:\u001b[0m\u001b[0;34m\u001b[0m\u001b[0;34m\u001b[0m\u001b[0m\n\u001b[0;32m--> 355\u001b[0;31m             \u001b[0mobj\u001b[0m\u001b[0;34m,\u001b[0m \u001b[0mend\u001b[0m \u001b[0;34m=\u001b[0m \u001b[0mself\u001b[0m\u001b[0;34m.\u001b[0m\u001b[0mscan_once\u001b[0m\u001b[0;34m(\u001b[0m\u001b[0ms\u001b[0m\u001b[0;34m,\u001b[0m \u001b[0midx\u001b[0m\u001b[0;34m)\u001b[0m\u001b[0;34m\u001b[0m\u001b[0;34m\u001b[0m\u001b[0m\n\u001b[0m\u001b[1;32m    356\u001b[0m         \u001b[0;32mexcept\u001b[0m \u001b[0mStopIteration\u001b[0m \u001b[0;32mas\u001b[0m \u001b[0merr\u001b[0m\u001b[0;34m:\u001b[0m\u001b[0;34m\u001b[0m\u001b[0;34m\u001b[0m\u001b[0m\n\u001b[1;32m    357\u001b[0m             \u001b[0;32mraise\u001b[0m \u001b[0mJSONDecodeError\u001b[0m\u001b[0;34m(\u001b[0m\u001b[0;34m\"Expecting value\"\u001b[0m\u001b[0;34m,\u001b[0m \u001b[0ms\u001b[0m\u001b[0;34m,\u001b[0m \u001b[0merr\u001b[0m\u001b[0;34m.\u001b[0m\u001b[0mvalue\u001b[0m\u001b[0;34m)\u001b[0m \u001b[0;32mfrom\u001b[0m \u001b[0;32mNone\u001b[0m\u001b[0;34m\u001b[0m\u001b[0;34m\u001b[0m\u001b[0m\n",
      "\u001b[0;31mKeyboardInterrupt\u001b[0m: "
     ]
    }
   ],
   "source": [
    "for i, data in enumerate(mixloader, 0):\n",
    "    mix_spec, target_spec, target_label = data\n",
    "    inputs = Variable(mix_spec)\n",
    "    targets = target_spec\n",
    "    featureset = featureDataSet(clean_dir, int(target_label))\n",
    "    feat_data, index = featureset.__getitem__()  \n",
    "    print (i, inputs.shape, targets.shape, feat_data.shape, index)\n"
   ]
  },
  {
   "cell_type": "code",
   "execution_count": null,
   "metadata": {},
   "outputs": [],
   "source": [
    "\n",
    "for i, data in enumerate(mixloader, 0):\n",
    "    # get mix spec & label\n",
    "    mix_spec, target_spec, target_label = data\n",
    "    inputs = Variable(mix_spec)\n",
    "    targets = target_spec\n",
    "\n",
    "    optimizer.zero_grad()\n",
    "    optimizer_A.zero_grad()\n",
    "\n",
    "\n",
    "    # get feature\n",
    "    featureset = featureDataSet(clean_dir, int(target_label))\n",
    "    feat_data = featureset.__getitem__()[int(target_label)]  \n",
    "    print (\"Get feature:\", full_audio[uint(target_label)])\n",
    "    feat, _ = featurenet(feat_data) \n"
=======
   "execution_count": 5,
   "metadata": {
    "collapsed": false
   },
   "outputs": [],
   "source": [
    "mix = cv2.imread('/Users/Terry/Downloads/calculate_this/0_700_mix.png')"
>>>>>>> 6dde27436fbc632e3072759b80df56842a4a6a33
   ]
  },
  {
   "cell_type": "code",
<<<<<<< HEAD
   "execution_count": 38,
   "metadata": {},
=======
   "execution_count": 8,
   "metadata": {
    "collapsed": false
   },
>>>>>>> 6dde27436fbc632e3072759b80df56842a4a6a33
   "outputs": [
    {
     "data": {
      "text/plain": [
<<<<<<< HEAD
       "array([2, 3])"
      ]
     },
     "execution_count": 38,
=======
       "(256, 128, 3)"
      ]
     },
     "execution_count": 8,
>>>>>>> 6dde27436fbc632e3072759b80df56842a4a6a33
     "metadata": {},
     "output_type": "execute_result"
    }
   ],
   "source": [
<<<<<<< HEAD
    "a = np.random.choice(5, size = 2, replace = False)\n",
    "a"
=======
    "mix.shape"
>>>>>>> 6dde27436fbc632e3072759b80df56842a4a6a33
   ]
  },
  {
   "cell_type": "code",
<<<<<<< HEAD
   "execution_count": 36,
   "metadata": {},
   "outputs": [
    {
     "data": {
      "text/plain": [
       "array([0, 1])"
      ]
     },
     "execution_count": 36,
     "metadata": {},
     "output_type": "execute_result"
    }
   ],
   "source": [
    "a"
   ]
  },
  {
   "cell_type": "code",
   "execution_count": 1,
   "metadata": {},
=======
   "execution_count": 13,
   "metadata": {
    "collapsed": true
   },
>>>>>>> 6dde27436fbc632e3072759b80df56842a4a6a33
   "outputs": [],
   "source": [
    "from pydub import AudioSegment\n",
    "from pydub.utils import make_chunks\n",
    "import os\n",
    "import gc\n",
    "import matplotlib.pyplot as plt\n",
    "%matplotlib inline\n",
    "import scipy\n",
    "import scipy.io.wavfile\n",
    "import numpy as np"
   ]
  },
  {
   "cell_type": "code",
<<<<<<< HEAD
   "execution_count": 19,
   "metadata": {},
   "outputs": [
    {
     "ename": "ValueError",
     "evalue": "too many values to unpack (expected 3)",
     "output_type": "error",
     "traceback": [
      "\u001b[0;31m---------------------------------------------------------------------------\u001b[0m",
      "\u001b[0;31mValueError\u001b[0m                                Traceback (most recent call last)",
      "\u001b[0;32m<ipython-input-19-ae505de0f0e2>\u001b[0m in \u001b[0;36m<module>\u001b[0;34m\u001b[0m\n\u001b[1;32m      2\u001b[0m \u001b[0;34m\u001b[0m\u001b[0m\n\u001b[1;32m      3\u001b[0m \u001b[0mfs\u001b[0m\u001b[0;34m,\u001b[0m \u001b[0mx\u001b[0m \u001b[0;34m=\u001b[0m \u001b[0mscipy\u001b[0m\u001b[0;34m.\u001b[0m\u001b[0mio\u001b[0m\u001b[0;34m.\u001b[0m\u001b[0mwavfile\u001b[0m\u001b[0;34m.\u001b[0m\u001b[0mread\u001b[0m\u001b[0;34m(\u001b[0m\u001b[0mpath\u001b[0m\u001b[0;34m)\u001b[0m\u001b[0;34m\u001b[0m\u001b[0;34m\u001b[0m\u001b[0m\n\u001b[0;32m----> 4\u001b[0;31m \u001b[0mspec\u001b[0m\u001b[0;34m,\u001b[0m \u001b[0m_\u001b[0m\u001b[0;34m,\u001b[0m \u001b[0m_\u001b[0m \u001b[0;34m=\u001b[0m \u001b[0mplt\u001b[0m\u001b[0;34m.\u001b[0m\u001b[0mspecgram\u001b[0m\u001b[0;34m(\u001b[0m\u001b[0mx\u001b[0m\u001b[0;34m,\u001b[0m \u001b[0mFs\u001b[0m \u001b[0;34m=\u001b[0m \u001b[0mfs\u001b[0m\u001b[0;34m,\u001b[0m \u001b[0mNFFT\u001b[0m \u001b[0;34m=\u001b[0m \u001b[0;36m1024\u001b[0m\u001b[0;34m,\u001b[0m \u001b[0mnoverlap\u001b[0m \u001b[0;34m=\u001b[0m \u001b[0;36m900\u001b[0m\u001b[0;34m)\u001b[0m\u001b[0;34m\u001b[0m\u001b[0;34m\u001b[0m\u001b[0m\n\u001b[0m\u001b[1;32m      5\u001b[0m \u001b[0mplt\u001b[0m\u001b[0;34m.\u001b[0m\u001b[0mshow\u001b[0m\u001b[0;34m(\u001b[0m\u001b[0;34m)\u001b[0m\u001b[0;34m\u001b[0m\u001b[0;34m\u001b[0m\u001b[0m\n",
      "\u001b[0;31mValueError\u001b[0m: too many values to unpack (expected 3)"
     ]
    },
    {
     "data": {
      "image/png": "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\n",
      "text/plain": [
       "<Figure size 432x288 with 1 Axes>"
      ]
     },
     "metadata": {
      "needs_background": "light"
     },
=======
   "execution_count": 31,
   "metadata": {
    "collapsed": false
   },
   "outputs": [
    {
     "data": {
      "image/png": "iVBORw0KGgoAAAANSUhEUgAAAYkAAAEACAYAAABGYoqtAAAABHNCSVQICAgIfAhkiAAAAAlwSFlz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\ny0EnaNgWmAAAAABJRU5ErkJggg==\n",
      "text/plain": [
       "<matplotlib.figure.Figure at 0x11bd1f2e8>"
      ]
     },
     "metadata": {},
>>>>>>> 6dde27436fbc632e3072759b80df56842a4a6a33
     "output_type": "display_data"
    }
   ],
   "source": [
<<<<<<< HEAD
    "path = '/home/tk/Documents/sliced_pool/constructivebeekeeping/for_mix/constructivebeekeeping_90_16.wav'\n",
    "\n",
    "fs, x = scipy.io.wavfile.read(path)\n",
    "spec, _, _ = plt.specgram(x, Fs = fs, NFFT = 1024, noverlap = 900)\n",
=======
    "fs, x = scipy.io.wavfile.read('/Users/Terry/Downloads/wav/captaincook_62_15.wav') # read audio file as np array\n",
    "spec, _, _, _= plt.specgram(x, Fs=fs, NFFT=1024, noverlap=900)\n",
>>>>>>> 6dde27436fbc632e3072759b80df56842a4a6a33
    "plt.show()"
   ]
  },
  {
   "cell_type": "code",
<<<<<<< HEAD
   "execution_count": 22,
   "metadata": {},
   "outputs": [
    {
     "data": {
      "text/plain": [
       "(4,)"
      ]
     },
     "execution_count": 22,
     "metadata": {},
     "output_type": "execute_result"
    }
   ],
   "source": [
    "c = np.array(spec)\n",
    "c.shape"
   ]
  },
  {
   "cell_type": "code",
   "execution_count": 29,
   "metadata": {},
   "outputs": [
    {
     "data": {
      "text/plain": [
       "(513, 170)"
      ]
     },
     "execution_count": 29,
     "metadata": {},
     "output_type": "execute_result"
    }
   ],
   "source": [
    "c[0].shape"
   ]
  },
  {
   "cell_type": "code",
   "execution_count": 16,
   "metadata": {},
   "outputs": [],
   "source": [
    "import acoustics"
   ]
  },
  {
   "cell_type": "code",
   "execution_count": 17,
   "metadata": {},
   "outputs": [],
   "source": [
    "a = acoustics.generator.white(1024)"
   ]
  },
  {
   "cell_type": "code",
   "execution_count": 18,
   "metadata": {},
   "outputs": [
    {
     "data": {
      "text/plain": [
       "array([ 0.19265578, -0.513637  ,  0.13239096, ...,  0.42990903,\n",
       "       -2.46982482,  0.57788704])"
      ]
     },
     "execution_count": 18,
     "metadata": {},
     "output_type": "execute_result"
    }
   ],
   "source": []
  },
  {
   "cell_type": "code",
   "execution_count": 30,
   "metadata": {},
   "outputs": [
    {
     "data": {
      "text/plain": [
       "(12, 12)"
      ]
     },
     "execution_count": 30,
     "metadata": {},
     "output_type": "execute_result"
    }
   ],
   "source": [
    "a = np.random.randn(12, 12)\n",
    "a.shape"
   ]
  },
  {
   "cell_type": "code",
   "execution_count": 32,
   "metadata": {},
   "outputs": [
    {
     "data": {
      "text/plain": [
       "(144, 1)"
      ]
     },
     "execution_count": 32,
     "metadata": {},
     "output_type": "execute_result"
    }
   ],
   "source": [
    "a = a.reshape(144, 1)\n",
    "a.shape"
=======
   "execution_count": 32,
   "metadata": {
    "collapsed": true
   },
   "outputs": [],
   "source": [
    "plt.close()"
>>>>>>> 6dde27436fbc632e3072759b80df56842a4a6a33
   ]
  },
  {
   "cell_type": "code",
   "execution_count": null,
   "metadata": {
    "collapsed": true
   },
   "outputs": [],
   "source": [
    "gc.collect()\n",
    "\n",
    "freq_wid = 342\n",
    "spec = spec[:freq_wid, :]\n",
    "\n",
    "spec_ = spec[:256, :128]\n",
    "mean = np.mean(spec_)\n",
    "spec_ = spec_/ mean\n",
    "spec_[spec_ >= 1] = 1"
   ]
  }
 ],
 "metadata": {
  "kernelspec": {
   "display_name": "Python 3",
   "language": "python",
   "name": "python3"
  },
  "language_info": {
   "codemirror_mode": {
    "name": "ipython",
    "version": 3
   },
   "file_extension": ".py",
   "mimetype": "text/x-python",
   "name": "python",
   "nbconvert_exporter": "python",
   "pygments_lexer": "ipython3",
   "version": "3.5.4"
  }
 },
 "nbformat": 4,
 "nbformat_minor": 2
}
